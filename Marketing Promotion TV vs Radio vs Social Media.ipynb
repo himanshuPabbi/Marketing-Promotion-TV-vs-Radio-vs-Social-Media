{
 "cells": [
  {
   "cell_type": "code",
   "execution_count": 1,
   "id": "1c629b7d",
   "metadata": {},
   "outputs": [],
   "source": [
    "import pandas as pd"
   ]
  },
  {
   "cell_type": "code",
   "execution_count": 2,
   "id": "c31055bd",
   "metadata": {},
   "outputs": [],
   "source": [
    "import numpy as np"
   ]
  },
  {
   "cell_type": "code",
   "execution_count": 3,
   "id": "4f4138f5",
   "metadata": {},
   "outputs": [],
   "source": [
    "import seaborn as sns"
   ]
  },
  {
   "cell_type": "code",
   "execution_count": 4,
   "id": "fd0b6c89",
   "metadata": {},
   "outputs": [],
   "source": [
    "import matplotlib.pyplot as plt"
   ]
  },
  {
   "cell_type": "code",
   "execution_count": 5,
   "id": "bd39a0c5",
   "metadata": {},
   "outputs": [],
   "source": [
    "from sklearn.linear_model import LinearRegression"
   ]
  },
  {
   "cell_type": "code",
   "execution_count": 6,
   "id": "47da6de5",
   "metadata": {},
   "outputs": [],
   "source": [
    "from sklearn.ensemble import RandomForestRegressor"
   ]
  },
  {
   "cell_type": "code",
   "execution_count": 7,
   "id": "c509567c",
   "metadata": {},
   "outputs": [],
   "source": [
    "from sklearn.tree import DecisionTreeRegressor"
   ]
  },
  {
   "cell_type": "code",
   "execution_count": 8,
   "id": "e3dc1713",
   "metadata": {},
   "outputs": [],
   "source": [
    "from sklearn.neighbors import KNeighborsRegressor"
   ]
  },
  {
   "cell_type": "code",
   "execution_count": 9,
   "id": "4c723a07",
   "metadata": {},
   "outputs": [],
   "source": [
    "import xgboost as xgb"
   ]
  },
  {
   "cell_type": "code",
   "execution_count": 10,
   "id": "066c353c",
   "metadata": {},
   "outputs": [],
   "source": [
    "from sklearn.model_selection import train_test_split,KFold,cross_val_score"
   ]
  },
  {
   "cell_type": "code",
   "execution_count": 11,
   "id": "e6c3e099",
   "metadata": {},
   "outputs": [],
   "source": [
    "from sklearn.preprocessing import StandardScaler"
   ]
  },
  {
   "cell_type": "code",
   "execution_count": 12,
   "id": "323d98f7",
   "metadata": {},
   "outputs": [],
   "source": [
    "from sklearn.metrics import r2_score,mean_squared_error"
   ]
  },
  {
   "cell_type": "code",
   "execution_count": 13,
   "id": "61bf509e",
   "metadata": {},
   "outputs": [],
   "source": [
    "from sklearn.metrics import classification_report"
   ]
  },
  {
   "cell_type": "code",
   "execution_count": 14,
   "id": "7931e2eb",
   "metadata": {},
   "outputs": [],
   "source": [
    "import tensorflow as tf"
   ]
  },
  {
   "cell_type": "code",
   "execution_count": 15,
   "id": "5f4f8769",
   "metadata": {},
   "outputs": [],
   "source": [
    "from tensorflow import keras"
   ]
  },
  {
   "cell_type": "code",
   "execution_count": 16,
   "id": "7f64b470",
   "metadata": {},
   "outputs": [],
   "source": [
    "import pandas as pd"
   ]
  },
  {
   "cell_type": "code",
   "execution_count": 17,
   "id": "3fdc10fa",
   "metadata": {},
   "outputs": [],
   "source": [
    "from sklearn.preprocessing import LabelEncoder"
   ]
  },
  {
   "cell_type": "code",
   "execution_count": 18,
   "id": "adeb8bac",
   "metadata": {},
   "outputs": [],
   "source": [
    "df=pd.read_csv(\"marketing_sales_data.csv\")\n"
   ]
  },
  {
   "cell_type": "code",
   "execution_count": 19,
   "id": "61f1fe25",
   "metadata": {},
   "outputs": [
    {
     "data": {
      "text/html": [
       "<div>\n",
       "<style scoped>\n",
       "    .dataframe tbody tr th:only-of-type {\n",
       "        vertical-align: middle;\n",
       "    }\n",
       "\n",
       "    .dataframe tbody tr th {\n",
       "        vertical-align: top;\n",
       "    }\n",
       "\n",
       "    .dataframe thead th {\n",
       "        text-align: right;\n",
       "    }\n",
       "</style>\n",
       "<table border=\"1\" class=\"dataframe\">\n",
       "  <thead>\n",
       "    <tr style=\"text-align: right;\">\n",
       "      <th></th>\n",
       "      <th>TV</th>\n",
       "      <th>Radio</th>\n",
       "      <th>Social Media</th>\n",
       "      <th>Influencer</th>\n",
       "      <th>Sales</th>\n",
       "    </tr>\n",
       "  </thead>\n",
       "  <tbody>\n",
       "    <tr>\n",
       "      <th>0</th>\n",
       "      <td>Low</td>\n",
       "      <td>3.518070</td>\n",
       "      <td>2.293790</td>\n",
       "      <td>Micro</td>\n",
       "      <td>55.261284</td>\n",
       "    </tr>\n",
       "    <tr>\n",
       "      <th>1</th>\n",
       "      <td>Low</td>\n",
       "      <td>7.756876</td>\n",
       "      <td>2.572287</td>\n",
       "      <td>Mega</td>\n",
       "      <td>67.574904</td>\n",
       "    </tr>\n",
       "    <tr>\n",
       "      <th>2</th>\n",
       "      <td>High</td>\n",
       "      <td>20.348988</td>\n",
       "      <td>1.227180</td>\n",
       "      <td>Micro</td>\n",
       "      <td>272.250108</td>\n",
       "    </tr>\n",
       "    <tr>\n",
       "      <th>3</th>\n",
       "      <td>Medium</td>\n",
       "      <td>20.108487</td>\n",
       "      <td>2.728374</td>\n",
       "      <td>Mega</td>\n",
       "      <td>195.102176</td>\n",
       "    </tr>\n",
       "    <tr>\n",
       "      <th>4</th>\n",
       "      <td>High</td>\n",
       "      <td>31.653200</td>\n",
       "      <td>7.776978</td>\n",
       "      <td>Nano</td>\n",
       "      <td>273.960377</td>\n",
       "    </tr>\n",
       "    <tr>\n",
       "      <th>...</th>\n",
       "      <td>...</td>\n",
       "      <td>...</td>\n",
       "      <td>...</td>\n",
       "      <td>...</td>\n",
       "      <td>...</td>\n",
       "    </tr>\n",
       "    <tr>\n",
       "      <th>567</th>\n",
       "      <td>Medium</td>\n",
       "      <td>14.656633</td>\n",
       "      <td>3.817980</td>\n",
       "      <td>Micro</td>\n",
       "      <td>191.521266</td>\n",
       "    </tr>\n",
       "    <tr>\n",
       "      <th>568</th>\n",
       "      <td>High</td>\n",
       "      <td>28.110171</td>\n",
       "      <td>7.358169</td>\n",
       "      <td>Mega</td>\n",
       "      <td>297.626731</td>\n",
       "    </tr>\n",
       "    <tr>\n",
       "      <th>569</th>\n",
       "      <td>Medium</td>\n",
       "      <td>11.401084</td>\n",
       "      <td>5.818697</td>\n",
       "      <td>Nano</td>\n",
       "      <td>145.416851</td>\n",
       "    </tr>\n",
       "    <tr>\n",
       "      <th>570</th>\n",
       "      <td>Medium</td>\n",
       "      <td>21.119991</td>\n",
       "      <td>5.703028</td>\n",
       "      <td>Macro</td>\n",
       "      <td>209.326830</td>\n",
       "    </tr>\n",
       "    <tr>\n",
       "      <th>571</th>\n",
       "      <td>Low</td>\n",
       "      <td>13.221237</td>\n",
       "      <td>3.660566</td>\n",
       "      <td>Micro</td>\n",
       "      <td>135.773151</td>\n",
       "    </tr>\n",
       "  </tbody>\n",
       "</table>\n",
       "<p>572 rows × 5 columns</p>\n",
       "</div>"
      ],
      "text/plain": [
       "         TV      Radio  Social Media Influencer       Sales\n",
       "0       Low   3.518070      2.293790      Micro   55.261284\n",
       "1       Low   7.756876      2.572287       Mega   67.574904\n",
       "2      High  20.348988      1.227180      Micro  272.250108\n",
       "3    Medium  20.108487      2.728374       Mega  195.102176\n",
       "4      High  31.653200      7.776978       Nano  273.960377\n",
       "..      ...        ...           ...        ...         ...\n",
       "567  Medium  14.656633      3.817980      Micro  191.521266\n",
       "568    High  28.110171      7.358169       Mega  297.626731\n",
       "569  Medium  11.401084      5.818697       Nano  145.416851\n",
       "570  Medium  21.119991      5.703028      Macro  209.326830\n",
       "571     Low  13.221237      3.660566      Micro  135.773151\n",
       "\n",
       "[572 rows x 5 columns]"
      ]
     },
     "execution_count": 19,
     "metadata": {},
     "output_type": "execute_result"
    }
   ],
   "source": [
    "df"
   ]
  },
  {
   "cell_type": "markdown",
   "id": "92b50860",
   "metadata": {},
   "source": [
    "Data's features\n",
    "The features in the data are:\n",
    "\n",
    "TV promotional budget (in \"Low,\" \"Medium,\" and \"High\" categories)\n",
    "Social media promotional budget (in millions of dollars)\n",
    "Radio promotional budget (in millions of dollars)\n",
    "Sales (in millions of dollars)\n",
    "Influencer size (in \"Mega,\" \"Macro,\" \"Micro,\" and \"Nano\" categories)"
   ]
  },
  {
   "cell_type": "code",
   "execution_count": 20,
   "id": "41198ecc",
   "metadata": {},
   "outputs": [
    {
     "data": {
      "text/html": [
       "<div>\n",
       "<style scoped>\n",
       "    .dataframe tbody tr th:only-of-type {\n",
       "        vertical-align: middle;\n",
       "    }\n",
       "\n",
       "    .dataframe tbody tr th {\n",
       "        vertical-align: top;\n",
       "    }\n",
       "\n",
       "    .dataframe thead th {\n",
       "        text-align: right;\n",
       "    }\n",
       "</style>\n",
       "<table border=\"1\" class=\"dataframe\">\n",
       "  <thead>\n",
       "    <tr style=\"text-align: right;\">\n",
       "      <th></th>\n",
       "      <th>Radio</th>\n",
       "      <th>Social Media</th>\n",
       "      <th>Sales</th>\n",
       "    </tr>\n",
       "  </thead>\n",
       "  <tbody>\n",
       "    <tr>\n",
       "      <th>count</th>\n",
       "      <td>572.000000</td>\n",
       "      <td>572.000000</td>\n",
       "      <td>572.000000</td>\n",
       "    </tr>\n",
       "    <tr>\n",
       "      <th>mean</th>\n",
       "      <td>17.520616</td>\n",
       "      <td>3.333803</td>\n",
       "      <td>189.296908</td>\n",
       "    </tr>\n",
       "    <tr>\n",
       "      <th>std</th>\n",
       "      <td>9.290933</td>\n",
       "      <td>2.238378</td>\n",
       "      <td>89.871581</td>\n",
       "    </tr>\n",
       "    <tr>\n",
       "      <th>min</th>\n",
       "      <td>0.109106</td>\n",
       "      <td>0.000031</td>\n",
       "      <td>33.509810</td>\n",
       "    </tr>\n",
       "    <tr>\n",
       "      <th>25%</th>\n",
       "      <td>10.699556</td>\n",
       "      <td>1.585549</td>\n",
       "      <td>118.718722</td>\n",
       "    </tr>\n",
       "    <tr>\n",
       "      <th>50%</th>\n",
       "      <td>17.149517</td>\n",
       "      <td>3.150111</td>\n",
       "      <td>184.005362</td>\n",
       "    </tr>\n",
       "    <tr>\n",
       "      <th>75%</th>\n",
       "      <td>24.606396</td>\n",
       "      <td>4.730408</td>\n",
       "      <td>264.500118</td>\n",
       "    </tr>\n",
       "    <tr>\n",
       "      <th>max</th>\n",
       "      <td>42.271579</td>\n",
       "      <td>11.403625</td>\n",
       "      <td>357.788195</td>\n",
       "    </tr>\n",
       "  </tbody>\n",
       "</table>\n",
       "</div>"
      ],
      "text/plain": [
       "            Radio  Social Media       Sales\n",
       "count  572.000000    572.000000  572.000000\n",
       "mean    17.520616      3.333803  189.296908\n",
       "std      9.290933      2.238378   89.871581\n",
       "min      0.109106      0.000031   33.509810\n",
       "25%     10.699556      1.585549  118.718722\n",
       "50%     17.149517      3.150111  184.005362\n",
       "75%     24.606396      4.730408  264.500118\n",
       "max     42.271579     11.403625  357.788195"
      ]
     },
     "execution_count": 20,
     "metadata": {},
     "output_type": "execute_result"
    }
   ],
   "source": [
    "df.describe()"
   ]
  },
  {
   "cell_type": "code",
   "execution_count": 21,
   "id": "e4a9fbf8",
   "metadata": {},
   "outputs": [
    {
     "data": {
      "text/plain": [
       "Index(['TV', 'Radio', 'Social Media', 'Influencer', 'Sales'], dtype='object')"
      ]
     },
     "execution_count": 21,
     "metadata": {},
     "output_type": "execute_result"
    }
   ],
   "source": [
    "df.columns"
   ]
  },
  {
   "cell_type": "code",
   "execution_count": 22,
   "id": "350a6341",
   "metadata": {},
   "outputs": [
    {
     "data": {
      "text/plain": [
       "(572, 5)"
      ]
     },
     "execution_count": 22,
     "metadata": {},
     "output_type": "execute_result"
    }
   ],
   "source": [
    "df.shape"
   ]
  },
  {
   "cell_type": "code",
   "execution_count": 23,
   "id": "71e9a4e4",
   "metadata": {},
   "outputs": [
    {
     "name": "stderr",
     "output_type": "stream",
     "text": [
      "C:\\Users\\himanshu\\anaconda3\\lib\\site-packages\\seaborn\\_decorators.py:36: FutureWarning: Pass the following variable as a keyword arg: x. From version 0.12, the only valid positional argument will be `data`, and passing other arguments without an explicit keyword will result in an error or misinterpretation.\n",
      "  warnings.warn(\n"
     ]
    },
    {
     "data": {
      "text/plain": [
       "<AxesSubplot:xlabel='Radio'>"
      ]
     },
     "execution_count": 23,
     "metadata": {},
     "output_type": "execute_result"
    },
    {
     "data": {
      "image/png": "[encoded data removed]",
      "text/plain": [
       "<Figure size 432x288 with 1 Axes>"
      ]
     },
     "metadata": {
      "needs_background": "light"
     },
     "output_type": "display_data"
    }
   ],
   "source": [
    "sns.boxplot(df['Radio'])"
   ]
  },
  {
   "cell_type": "code",
   "execution_count": 24,
   "id": "fb1d4f70",
   "metadata": {},
   "outputs": [
    {
     "name": "stderr",
     "output_type": "stream",
     "text": [
      "C:\\Users\\himanshu\\anaconda3\\lib\\site-packages\\seaborn\\_decorators.py:36: FutureWarning: Pass the following variable as a keyword arg: x. From version 0.12, the only valid positional argument will be `data`, and passing other arguments without an explicit keyword will result in an error or misinterpretation.\n",
      "  warnings.warn(\n"
     ]
    },
    {
     "data": {
      "text/plain": [
       "<AxesSubplot:xlabel='Social Media'>"
      ]
     },
     "execution_count": 24,
     "metadata": {},
     "output_type": "execute_result"
    },
    {
     "data": {
      "image/png": "[encoded data removed]",
      "text/plain": [
       "<Figure size 432x288 with 1 Axes>"
      ]
     },
     "metadata": {
      "needs_background": "light"
     },
     "output_type": "display_data"
    }
   ],
   "source": [
    "sns.boxplot(df['Social Media'])"
   ]
  },
  {
   "cell_type": "code",
   "execution_count": 25,
   "id": "996d17f4",
   "metadata": {},
   "outputs": [],
   "source": [
    "q1=df['Social Media'].quantile(0.25)"
   ]
  },
  {
   "cell_type": "code",
   "execution_count": 26,
   "id": "556ba776",
   "metadata": {},
   "outputs": [],
   "source": [
    "q3=df['Social Media'].quantile(0.75)"
   ]
  },
  {
   "cell_type": "code",
   "execution_count": 27,
   "id": "e43a1dc4",
   "metadata": {},
   "outputs": [],
   "source": [
    "IQR=q3-q1"
   ]
  },
  {
   "cell_type": "code",
   "execution_count": 28,
   "id": "9136bfb1",
   "metadata": {},
   "outputs": [],
   "source": [
    "lower=q1-1.5*IQR"
   ]
  },
  {
   "cell_type": "code",
   "execution_count": 29,
   "id": "fa8b6361",
   "metadata": {},
   "outputs": [],
   "source": [
    "upper=q3+1.5*IQR"
   ]
  },
  {
   "cell_type": "code",
   "execution_count": 30,
   "id": "3d36a555",
   "metadata": {},
   "outputs": [],
   "source": [
    "df=df[(df['Social Media']>lower) & (df['Social Media']<upper)]"
   ]
  },
  {
   "cell_type": "code",
   "execution_count": 31,
   "id": "f4c36dfc",
   "metadata": {},
   "outputs": [
    {
     "data": {
      "text/html": [
       "<div>\n",
       "<style scoped>\n",
       "    .dataframe tbody tr th:only-of-type {\n",
       "        vertical-align: middle;\n",
       "    }\n",
       "\n",
       "    .dataframe tbody tr th {\n",
       "        vertical-align: top;\n",
       "    }\n",
       "\n",
       "    .dataframe thead th {\n",
       "        text-align: right;\n",
       "    }\n",
       "</style>\n",
       "<table border=\"1\" class=\"dataframe\">\n",
       "  <thead>\n",
       "    <tr style=\"text-align: right;\">\n",
       "      <th></th>\n",
       "      <th>TV</th>\n",
       "      <th>Radio</th>\n",
       "      <th>Social Media</th>\n",
       "      <th>Influencer</th>\n",
       "      <th>Sales</th>\n",
       "    </tr>\n",
       "  </thead>\n",
       "  <tbody>\n",
       "    <tr>\n",
       "      <th>0</th>\n",
       "      <td>Low</td>\n",
       "      <td>3.518070</td>\n",
       "      <td>2.293790</td>\n",
       "      <td>Micro</td>\n",
       "      <td>55.261284</td>\n",
       "    </tr>\n",
       "    <tr>\n",
       "      <th>1</th>\n",
       "      <td>Low</td>\n",
       "      <td>7.756876</td>\n",
       "      <td>2.572287</td>\n",
       "      <td>Mega</td>\n",
       "      <td>67.574904</td>\n",
       "    </tr>\n",
       "    <tr>\n",
       "      <th>2</th>\n",
       "      <td>High</td>\n",
       "      <td>20.348988</td>\n",
       "      <td>1.227180</td>\n",
       "      <td>Micro</td>\n",
       "      <td>272.250108</td>\n",
       "    </tr>\n",
       "    <tr>\n",
       "      <th>3</th>\n",
       "      <td>Medium</td>\n",
       "      <td>20.108487</td>\n",
       "      <td>2.728374</td>\n",
       "      <td>Mega</td>\n",
       "      <td>195.102176</td>\n",
       "    </tr>\n",
       "    <tr>\n",
       "      <th>4</th>\n",
       "      <td>High</td>\n",
       "      <td>31.653200</td>\n",
       "      <td>7.776978</td>\n",
       "      <td>Nano</td>\n",
       "      <td>273.960377</td>\n",
       "    </tr>\n",
       "    <tr>\n",
       "      <th>...</th>\n",
       "      <td>...</td>\n",
       "      <td>...</td>\n",
       "      <td>...</td>\n",
       "      <td>...</td>\n",
       "      <td>...</td>\n",
       "    </tr>\n",
       "    <tr>\n",
       "      <th>567</th>\n",
       "      <td>Medium</td>\n",
       "      <td>14.656633</td>\n",
       "      <td>3.817980</td>\n",
       "      <td>Micro</td>\n",
       "      <td>191.521266</td>\n",
       "    </tr>\n",
       "    <tr>\n",
       "      <th>568</th>\n",
       "      <td>High</td>\n",
       "      <td>28.110171</td>\n",
       "      <td>7.358169</td>\n",
       "      <td>Mega</td>\n",
       "      <td>297.626731</td>\n",
       "    </tr>\n",
       "    <tr>\n",
       "      <th>569</th>\n",
       "      <td>Medium</td>\n",
       "      <td>11.401084</td>\n",
       "      <td>5.818697</td>\n",
       "      <td>Nano</td>\n",
       "      <td>145.416851</td>\n",
       "    </tr>\n",
       "    <tr>\n",
       "      <th>570</th>\n",
       "      <td>Medium</td>\n",
       "      <td>21.119991</td>\n",
       "      <td>5.703028</td>\n",
       "      <td>Macro</td>\n",
       "      <td>209.326830</td>\n",
       "    </tr>\n",
       "    <tr>\n",
       "      <th>571</th>\n",
       "      <td>Low</td>\n",
       "      <td>13.221237</td>\n",
       "      <td>3.660566</td>\n",
       "      <td>Micro</td>\n",
       "      <td>135.773151</td>\n",
       "    </tr>\n",
       "  </tbody>\n",
       "</table>\n",
       "<p>564 rows × 5 columns</p>\n",
       "</div>"
      ],
      "text/plain": [
       "         TV      Radio  Social Media Influencer       Sales\n",
       "0       Low   3.518070      2.293790      Micro   55.261284\n",
       "1       Low   7.756876      2.572287       Mega   67.574904\n",
       "2      High  20.348988      1.227180      Micro  272.250108\n",
       "3    Medium  20.108487      2.728374       Mega  195.102176\n",
       "4      High  31.653200      7.776978       Nano  273.960377\n",
       "..      ...        ...           ...        ...         ...\n",
       "567  Medium  14.656633      3.817980      Micro  191.521266\n",
       "568    High  28.110171      7.358169       Mega  297.626731\n",
       "569  Medium  11.401084      5.818697       Nano  145.416851\n",
       "570  Medium  21.119991      5.703028      Macro  209.326830\n",
       "571     Low  13.221237      3.660566      Micro  135.773151\n",
       "\n",
       "[564 rows x 5 columns]"
      ]
     },
     "execution_count": 31,
     "metadata": {},
     "output_type": "execute_result"
    }
   ],
   "source": [
    "df"
   ]
  },
  {
   "cell_type": "code",
   "execution_count": 32,
   "id": "4cda932e",
   "metadata": {},
   "outputs": [
    {
     "name": "stderr",
     "output_type": "stream",
     "text": [
      "C:\\Users\\himanshu\\AppData\\Local\\Temp\\ipykernel_18524\\3650251149.py:1: SettingWithCopyWarning: \n",
      "A value is trying to be set on a copy of a slice from a DataFrame.\n",
      "Try using .loc[row_indexer,col_indexer] = value instead\n",
      "\n",
      "See the caveats in the documentation: https://pandas.pydata.org/pandas-docs/stable/user_guide/indexing.html#returning-a-view-versus-a-copy\n",
      "  df['Sales_Range']=pd.qcut(df['Sales'],4)\n"
     ]
    }
   ],
   "source": [
    "df['Sales_Range']=pd.qcut(df['Sales'],4)\n"
   ]
  },
  {
   "cell_type": "code",
   "execution_count": 33,
   "id": "f560ab7c",
   "metadata": {},
   "outputs": [
    {
     "data": {
      "text/html": [
       "<div>\n",
       "<style scoped>\n",
       "    .dataframe tbody tr th:only-of-type {\n",
       "        vertical-align: middle;\n",
       "    }\n",
       "\n",
       "    .dataframe tbody tr th {\n",
       "        vertical-align: top;\n",
       "    }\n",
       "\n",
       "    .dataframe thead th {\n",
       "        text-align: right;\n",
       "    }\n",
       "</style>\n",
       "<table border=\"1\" class=\"dataframe\">\n",
       "  <thead>\n",
       "    <tr style=\"text-align: right;\">\n",
       "      <th></th>\n",
       "      <th>TV</th>\n",
       "      <th>Radio</th>\n",
       "      <th>Social Media</th>\n",
       "      <th>Influencer</th>\n",
       "      <th>Sales</th>\n",
       "      <th>Sales_Range</th>\n",
       "    </tr>\n",
       "  </thead>\n",
       "  <tbody>\n",
       "    <tr>\n",
       "      <th>0</th>\n",
       "      <td>Low</td>\n",
       "      <td>3.518070</td>\n",
       "      <td>2.293790</td>\n",
       "      <td>Micro</td>\n",
       "      <td>55.261284</td>\n",
       "      <td>(33.509, 115.616]</td>\n",
       "    </tr>\n",
       "    <tr>\n",
       "      <th>1</th>\n",
       "      <td>Low</td>\n",
       "      <td>7.756876</td>\n",
       "      <td>2.572287</td>\n",
       "      <td>Mega</td>\n",
       "      <td>67.574904</td>\n",
       "      <td>(33.509, 115.616]</td>\n",
       "    </tr>\n",
       "    <tr>\n",
       "      <th>2</th>\n",
       "      <td>High</td>\n",
       "      <td>20.348988</td>\n",
       "      <td>1.227180</td>\n",
       "      <td>Micro</td>\n",
       "      <td>272.250108</td>\n",
       "      <td>(262.23, 357.788]</td>\n",
       "    </tr>\n",
       "    <tr>\n",
       "      <th>3</th>\n",
       "      <td>Medium</td>\n",
       "      <td>20.108487</td>\n",
       "      <td>2.728374</td>\n",
       "      <td>Mega</td>\n",
       "      <td>195.102176</td>\n",
       "      <td>(182.205, 262.23]</td>\n",
       "    </tr>\n",
       "    <tr>\n",
       "      <th>4</th>\n",
       "      <td>High</td>\n",
       "      <td>31.653200</td>\n",
       "      <td>7.776978</td>\n",
       "      <td>Nano</td>\n",
       "      <td>273.960377</td>\n",
       "      <td>(262.23, 357.788]</td>\n",
       "    </tr>\n",
       "    <tr>\n",
       "      <th>...</th>\n",
       "      <td>...</td>\n",
       "      <td>...</td>\n",
       "      <td>...</td>\n",
       "      <td>...</td>\n",
       "      <td>...</td>\n",
       "      <td>...</td>\n",
       "    </tr>\n",
       "    <tr>\n",
       "      <th>567</th>\n",
       "      <td>Medium</td>\n",
       "      <td>14.656633</td>\n",
       "      <td>3.817980</td>\n",
       "      <td>Micro</td>\n",
       "      <td>191.521266</td>\n",
       "      <td>(182.205, 262.23]</td>\n",
       "    </tr>\n",
       "    <tr>\n",
       "      <th>568</th>\n",
       "      <td>High</td>\n",
       "      <td>28.110171</td>\n",
       "      <td>7.358169</td>\n",
       "      <td>Mega</td>\n",
       "      <td>297.626731</td>\n",
       "      <td>(262.23, 357.788]</td>\n",
       "    </tr>\n",
       "    <tr>\n",
       "      <th>569</th>\n",
       "      <td>Medium</td>\n",
       "      <td>11.401084</td>\n",
       "      <td>5.818697</td>\n",
       "      <td>Nano</td>\n",
       "      <td>145.416851</td>\n",
       "      <td>(115.616, 182.205]</td>\n",
       "    </tr>\n",
       "    <tr>\n",
       "      <th>570</th>\n",
       "      <td>Medium</td>\n",
       "      <td>21.119991</td>\n",
       "      <td>5.703028</td>\n",
       "      <td>Macro</td>\n",
       "      <td>209.326830</td>\n",
       "      <td>(182.205, 262.23]</td>\n",
       "    </tr>\n",
       "    <tr>\n",
       "      <th>571</th>\n",
       "      <td>Low</td>\n",
       "      <td>13.221237</td>\n",
       "      <td>3.660566</td>\n",
       "      <td>Micro</td>\n",
       "      <td>135.773151</td>\n",
       "      <td>(115.616, 182.205]</td>\n",
       "    </tr>\n",
       "  </tbody>\n",
       "</table>\n",
       "<p>564 rows × 6 columns</p>\n",
       "</div>"
      ],
      "text/plain": [
       "         TV      Radio  Social Media Influencer       Sales  \\\n",
       "0       Low   3.518070      2.293790      Micro   55.261284   \n",
       "1       Low   7.756876      2.572287       Mega   67.574904   \n",
       "2      High  20.348988      1.227180      Micro  272.250108   \n",
       "3    Medium  20.108487      2.728374       Mega  195.102176   \n",
       "4      High  31.653200      7.776978       Nano  273.960377   \n",
       "..      ...        ...           ...        ...         ...   \n",
       "567  Medium  14.656633      3.817980      Micro  191.521266   \n",
       "568    High  28.110171      7.358169       Mega  297.626731   \n",
       "569  Medium  11.401084      5.818697       Nano  145.416851   \n",
       "570  Medium  21.119991      5.703028      Macro  209.326830   \n",
       "571     Low  13.221237      3.660566      Micro  135.773151   \n",
       "\n",
       "            Sales_Range  \n",
       "0     (33.509, 115.616]  \n",
       "1     (33.509, 115.616]  \n",
       "2     (262.23, 357.788]  \n",
       "3     (182.205, 262.23]  \n",
       "4     (262.23, 357.788]  \n",
       "..                  ...  \n",
       "567   (182.205, 262.23]  \n",
       "568   (262.23, 357.788]  \n",
       "569  (115.616, 182.205]  \n",
       "570   (182.205, 262.23]  \n",
       "571  (115.616, 182.205]  \n",
       "\n",
       "[564 rows x 6 columns]"
      ]
     },
     "execution_count": 33,
     "metadata": {},
     "output_type": "execute_result"
    }
   ],
   "source": [
    "df"
   ]
  },
  {
   "cell_type": "code",
   "execution_count": 34,
   "id": "2b229727",
   "metadata": {},
   "outputs": [
    {
     "data": {
      "image/png": "[encoded data removed]",
      "text/plain": [
       "<Figure size 432x288 with 1 Axes>"
      ]
     },
     "metadata": {
      "needs_background": "light"
     },
     "output_type": "display_data"
    }
   ],
   "source": [
    "sns.barplot(x=df['Sales_Range'],y=df['Radio'])\n",
    "plt.xticks(rotation=90)\n",
    "plt.show()"
   ]
  },
  {
   "cell_type": "code",
   "execution_count": 35,
   "id": "6a5079bb",
   "metadata": {},
   "outputs": [
    {
     "data": {
      "image/png": "[encoded data removed]",
      "text/plain": [
       "<Figure size 432x288 with 1 Axes>"
      ]
     },
     "metadata": {
      "needs_background": "light"
     },
     "output_type": "display_data"
    }
   ],
   "source": [
    "sns.barplot(x=df['Sales_Range'],y=df['Social Media'])\n",
    "plt.xticks(rotation=90)\n",
    "plt.show()"
   ]
  },
  {
   "cell_type": "code",
   "execution_count": 36,
   "id": "f3772eab",
   "metadata": {},
   "outputs": [
    {
     "data": {
      "image/png": "[encoded data removed]",
      "text/plain": [
       "<Figure size 432x288 with 1 Axes>"
      ]
     },
     "metadata": {
      "needs_background": "light"
     },
     "output_type": "display_data"
    }
   ],
   "source": [
    "sns.countplot(x=df['Sales_Range'],hue=df['TV'])\n",
    "plt.xticks(rotation=90)\n",
    "plt.show()"
   ]
  },
  {
   "cell_type": "code",
   "execution_count": 37,
   "id": "319e1bca",
   "metadata": {},
   "outputs": [
    {
     "data": {
      "image/png": "[encoded data removed]",
      "text/plain": [
       "<Figure size 432x288 with 1 Axes>"
      ]
     },
     "metadata": {
      "needs_background": "light"
     },
     "output_type": "display_data"
    }
   ],
   "source": [
    "sns.countplot(x=df['Sales_Range'],hue=df['Influencer'])\n",
    "plt.xticks(rotation=90)\n",
    "plt.show()"
   ]
  },
  {
   "cell_type": "code",
   "execution_count": 38,
   "id": "fe52d2cf",
   "metadata": {},
   "outputs": [
    {
     "data": {
      "text/html": [
       "<div>\n",
       "<style scoped>\n",
       "    .dataframe tbody tr th:only-of-type {\n",
       "        vertical-align: middle;\n",
       "    }\n",
       "\n",
       "    .dataframe tbody tr th {\n",
       "        vertical-align: top;\n",
       "    }\n",
       "\n",
       "    .dataframe thead th {\n",
       "        text-align: right;\n",
       "    }\n",
       "</style>\n",
       "<table border=\"1\" class=\"dataframe\">\n",
       "  <thead>\n",
       "    <tr style=\"text-align: right;\">\n",
       "      <th></th>\n",
       "      <th>TV</th>\n",
       "      <th>Radio</th>\n",
       "      <th>Social Media</th>\n",
       "      <th>Influencer</th>\n",
       "      <th>Sales</th>\n",
       "      <th>Sales_Range</th>\n",
       "    </tr>\n",
       "  </thead>\n",
       "  <tbody>\n",
       "    <tr>\n",
       "      <th>0</th>\n",
       "      <td>Low</td>\n",
       "      <td>3.518070</td>\n",
       "      <td>2.293790</td>\n",
       "      <td>Micro</td>\n",
       "      <td>55.261284</td>\n",
       "      <td>(33.509, 115.616]</td>\n",
       "    </tr>\n",
       "    <tr>\n",
       "      <th>1</th>\n",
       "      <td>Low</td>\n",
       "      <td>7.756876</td>\n",
       "      <td>2.572287</td>\n",
       "      <td>Mega</td>\n",
       "      <td>67.574904</td>\n",
       "      <td>(33.509, 115.616]</td>\n",
       "    </tr>\n",
       "    <tr>\n",
       "      <th>2</th>\n",
       "      <td>High</td>\n",
       "      <td>20.348988</td>\n",
       "      <td>1.227180</td>\n",
       "      <td>Micro</td>\n",
       "      <td>272.250108</td>\n",
       "      <td>(262.23, 357.788]</td>\n",
       "    </tr>\n",
       "    <tr>\n",
       "      <th>3</th>\n",
       "      <td>Medium</td>\n",
       "      <td>20.108487</td>\n",
       "      <td>2.728374</td>\n",
       "      <td>Mega</td>\n",
       "      <td>195.102176</td>\n",
       "      <td>(182.205, 262.23]</td>\n",
       "    </tr>\n",
       "    <tr>\n",
       "      <th>4</th>\n",
       "      <td>High</td>\n",
       "      <td>31.653200</td>\n",
       "      <td>7.776978</td>\n",
       "      <td>Nano</td>\n",
       "      <td>273.960377</td>\n",
       "      <td>(262.23, 357.788]</td>\n",
       "    </tr>\n",
       "    <tr>\n",
       "      <th>...</th>\n",
       "      <td>...</td>\n",
       "      <td>...</td>\n",
       "      <td>...</td>\n",
       "      <td>...</td>\n",
       "      <td>...</td>\n",
       "      <td>...</td>\n",
       "    </tr>\n",
       "    <tr>\n",
       "      <th>567</th>\n",
       "      <td>Medium</td>\n",
       "      <td>14.656633</td>\n",
       "      <td>3.817980</td>\n",
       "      <td>Micro</td>\n",
       "      <td>191.521266</td>\n",
       "      <td>(182.205, 262.23]</td>\n",
       "    </tr>\n",
       "    <tr>\n",
       "      <th>568</th>\n",
       "      <td>High</td>\n",
       "      <td>28.110171</td>\n",
       "      <td>7.358169</td>\n",
       "      <td>Mega</td>\n",
       "      <td>297.626731</td>\n",
       "      <td>(262.23, 357.788]</td>\n",
       "    </tr>\n",
       "    <tr>\n",
       "      <th>569</th>\n",
       "      <td>Medium</td>\n",
       "      <td>11.401084</td>\n",
       "      <td>5.818697</td>\n",
       "      <td>Nano</td>\n",
       "      <td>145.416851</td>\n",
       "      <td>(115.616, 182.205]</td>\n",
       "    </tr>\n",
       "    <tr>\n",
       "      <th>570</th>\n",
       "      <td>Medium</td>\n",
       "      <td>21.119991</td>\n",
       "      <td>5.703028</td>\n",
       "      <td>Macro</td>\n",
       "      <td>209.326830</td>\n",
       "      <td>(182.205, 262.23]</td>\n",
       "    </tr>\n",
       "    <tr>\n",
       "      <th>571</th>\n",
       "      <td>Low</td>\n",
       "      <td>13.221237</td>\n",
       "      <td>3.660566</td>\n",
       "      <td>Micro</td>\n",
       "      <td>135.773151</td>\n",
       "      <td>(115.616, 182.205]</td>\n",
       "    </tr>\n",
       "  </tbody>\n",
       "</table>\n",
       "<p>564 rows × 6 columns</p>\n",
       "</div>"
      ],
      "text/plain": [
       "         TV      Radio  Social Media Influencer       Sales  \\\n",
       "0       Low   3.518070      2.293790      Micro   55.261284   \n",
       "1       Low   7.756876      2.572287       Mega   67.574904   \n",
       "2      High  20.348988      1.227180      Micro  272.250108   \n",
       "3    Medium  20.108487      2.728374       Mega  195.102176   \n",
       "4      High  31.653200      7.776978       Nano  273.960377   \n",
       "..      ...        ...           ...        ...         ...   \n",
       "567  Medium  14.656633      3.817980      Micro  191.521266   \n",
       "568    High  28.110171      7.358169       Mega  297.626731   \n",
       "569  Medium  11.401084      5.818697       Nano  145.416851   \n",
       "570  Medium  21.119991      5.703028      Macro  209.326830   \n",
       "571     Low  13.221237      3.660566      Micro  135.773151   \n",
       "\n",
       "            Sales_Range  \n",
       "0     (33.509, 115.616]  \n",
       "1     (33.509, 115.616]  \n",
       "2     (262.23, 357.788]  \n",
       "3     (182.205, 262.23]  \n",
       "4     (262.23, 357.788]  \n",
       "..                  ...  \n",
       "567   (182.205, 262.23]  \n",
       "568   (262.23, 357.788]  \n",
       "569  (115.616, 182.205]  \n",
       "570   (182.205, 262.23]  \n",
       "571  (115.616, 182.205]  \n",
       "\n",
       "[564 rows x 6 columns]"
      ]
     },
     "execution_count": 38,
     "metadata": {},
     "output_type": "execute_result"
    }
   ],
   "source": [
    "df"
   ]
  },
  {
   "cell_type": "code",
   "execution_count": 39,
   "id": "d17c7f77",
   "metadata": {},
   "outputs": [
    {
     "data": {
      "text/plain": [
       "<AxesSubplot:xlabel='Radio', ylabel='Sales'>"
      ]
     },
     "execution_count": 39,
     "metadata": {},
     "output_type": "execute_result"
    },
    {
     "data": {
      "image/png": "[encoded data removed]",
      "text/plain": [
       "<Figure size 432x288 with 1 Axes>"
      ]
     },
     "metadata": {
      "needs_background": "light"
     },
     "output_type": "display_data"
    }
   ],
   "source": [
    "sns.scatterplot(x=df['Radio'],y=df['Sales'])"
   ]
  },
  {
   "cell_type": "code",
   "execution_count": 40,
   "id": "83e3262f",
   "metadata": {},
   "outputs": [
    {
     "data": {
      "text/plain": [
       "<AxesSubplot:xlabel='Social Media', ylabel='Sales'>"
      ]
     },
     "execution_count": 40,
     "metadata": {},
     "output_type": "execute_result"
    },
    {
     "data": {
      "image/png": "[encoded data removed]",
      "text/plain": [
       "<Figure size 432x288 with 1 Axes>"
      ]
     },
     "metadata": {
      "needs_background": "light"
     },
     "output_type": "display_data"
    }
   ],
   "source": [
    "sns.scatterplot(x=df['Social Media'],y=df['Sales'])"
   ]
  },
  {
   "cell_type": "code",
   "execution_count": 41,
   "id": "7307b51e",
   "metadata": {},
   "outputs": [
    {
     "data": {
      "text/plain": [
       "<AxesSubplot:xlabel='Radio', ylabel='Sales'>"
      ]
     },
     "execution_count": 41,
     "metadata": {},
     "output_type": "execute_result"
    },
    {
     "data": {
      "image/png": "[encoded data removed]",
      "text/plain": [
       "<Figure size 432x288 with 1 Axes>"
      ]
     },
     "metadata": {
      "needs_background": "light"
     },
     "output_type": "display_data"
    }
   ],
   "source": [
    "sns.scatterplot(x=df['Radio'],y=df['Sales'],hue=df['TV'])"
   ]
  },
  {
   "cell_type": "code",
   "execution_count": 42,
   "id": "236e005f",
   "metadata": {},
   "outputs": [
    {
     "data": {
      "text/plain": [
       "<AxesSubplot:xlabel='Social Media', ylabel='Sales'>"
      ]
     },
     "execution_count": 42,
     "metadata": {},
     "output_type": "execute_result"
    },
    {
     "data": {
      "image/png": "[encoded data removed]",
      "text/plain": [
       "<Figure size 432x288 with 1 Axes>"
      ]
     },
     "metadata": {
      "needs_background": "light"
     },
     "output_type": "display_data"
    }
   ],
   "source": [
    "sns.scatterplot(x=df['Social Media'],y=df['Sales'],hue=df['TV'])"
   ]
  },
  {
   "cell_type": "code",
   "execution_count": 43,
   "id": "970a8de4",
   "metadata": {},
   "outputs": [
    {
     "data": {
      "text/plain": [
       "<AxesSubplot:xlabel='Social Media', ylabel='Sales'>"
      ]
     },
     "execution_count": 43,
     "metadata": {},
     "output_type": "execute_result"
    },
    {
     "data": {
      "image/png": "[encoded data removed]",
      "text/plain": [
       "<Figure size 432x288 with 1 Axes>"
      ]
     },
     "metadata": {
      "needs_background": "light"
     },
     "output_type": "display_data"
    }
   ],
   "source": [
    "\n",
    "sns.scatterplot(x=df['Social Media'],y=df['Sales'],hue=df['Influencer'])"
   ]
  },
  {
   "cell_type": "code",
   "execution_count": 44,
   "id": "89162931",
   "metadata": {},
   "outputs": [
    {
     "data": {
      "text/plain": [
       "<AxesSubplot:xlabel='Radio', ylabel='Sales'>"
      ]
     },
     "execution_count": 44,
     "metadata": {},
     "output_type": "execute_result"
    },
    {
     "data": {
      "image/png": "[encoded data removed]",
      "text/plain": [
       "<Figure size 432x288 with 1 Axes>"
      ]
     },
     "metadata": {
      "needs_background": "light"
     },
     "output_type": "display_data"
    }
   ],
   "source": [
    "sns.scatterplot(x=df['Radio'],y=df['Sales'],hue=df['Influencer'])"
   ]
  },
  {
   "cell_type": "code",
   "execution_count": 45,
   "id": "214d015c",
   "metadata": {},
   "outputs": [
    {
     "data": {
      "text/plain": [
       "<seaborn.axisgrid.PairGrid at 0x22dab0651c0>"
      ]
     },
     "execution_count": 45,
     "metadata": {},
     "output_type": "execute_result"
    },
    {
     "data": {
      "image/png": "[encoded data removed]",
      "text/plain": [
       "<Figure size 540x540 with 12 Axes>"
      ]
     },
     "metadata": {
      "needs_background": "light"
     },
     "output_type": "display_data"
    }
   ],
   "source": [
    "sns.pairplot(data=df)"
   ]
  },
  {
   "cell_type": "code",
   "execution_count": 46,
   "id": "575389c7",
   "metadata": {},
   "outputs": [
    {
     "data": {
      "text/html": [
       "<div>\n",
       "<style scoped>\n",
       "    .dataframe tbody tr th:only-of-type {\n",
       "        vertical-align: middle;\n",
       "    }\n",
       "\n",
       "    .dataframe tbody tr th {\n",
       "        vertical-align: top;\n",
       "    }\n",
       "\n",
       "    .dataframe thead th {\n",
       "        text-align: right;\n",
       "    }\n",
       "</style>\n",
       "<table border=\"1\" class=\"dataframe\">\n",
       "  <thead>\n",
       "    <tr style=\"text-align: right;\">\n",
       "      <th></th>\n",
       "      <th>TV</th>\n",
       "      <th>Radio</th>\n",
       "      <th>Social Media</th>\n",
       "      <th>Influencer</th>\n",
       "      <th>Sales</th>\n",
       "      <th>Sales_Range</th>\n",
       "    </tr>\n",
       "  </thead>\n",
       "  <tbody>\n",
       "    <tr>\n",
       "      <th>0</th>\n",
       "      <td>Low</td>\n",
       "      <td>3.518070</td>\n",
       "      <td>2.293790</td>\n",
       "      <td>Micro</td>\n",
       "      <td>55.261284</td>\n",
       "      <td>(33.509, 115.616]</td>\n",
       "    </tr>\n",
       "    <tr>\n",
       "      <th>1</th>\n",
       "      <td>Low</td>\n",
       "      <td>7.756876</td>\n",
       "      <td>2.572287</td>\n",
       "      <td>Mega</td>\n",
       "      <td>67.574904</td>\n",
       "      <td>(33.509, 115.616]</td>\n",
       "    </tr>\n",
       "    <tr>\n",
       "      <th>2</th>\n",
       "      <td>High</td>\n",
       "      <td>20.348988</td>\n",
       "      <td>1.227180</td>\n",
       "      <td>Micro</td>\n",
       "      <td>272.250108</td>\n",
       "      <td>(262.23, 357.788]</td>\n",
       "    </tr>\n",
       "    <tr>\n",
       "      <th>3</th>\n",
       "      <td>Medium</td>\n",
       "      <td>20.108487</td>\n",
       "      <td>2.728374</td>\n",
       "      <td>Mega</td>\n",
       "      <td>195.102176</td>\n",
       "      <td>(182.205, 262.23]</td>\n",
       "    </tr>\n",
       "    <tr>\n",
       "      <th>4</th>\n",
       "      <td>High</td>\n",
       "      <td>31.653200</td>\n",
       "      <td>7.776978</td>\n",
       "      <td>Nano</td>\n",
       "      <td>273.960377</td>\n",
       "      <td>(262.23, 357.788]</td>\n",
       "    </tr>\n",
       "    <tr>\n",
       "      <th>...</th>\n",
       "      <td>...</td>\n",
       "      <td>...</td>\n",
       "      <td>...</td>\n",
       "      <td>...</td>\n",
       "      <td>...</td>\n",
       "      <td>...</td>\n",
       "    </tr>\n",
       "    <tr>\n",
       "      <th>567</th>\n",
       "      <td>Medium</td>\n",
       "      <td>14.656633</td>\n",
       "      <td>3.817980</td>\n",
       "      <td>Micro</td>\n",
       "      <td>191.521266</td>\n",
       "      <td>(182.205, 262.23]</td>\n",
       "    </tr>\n",
       "    <tr>\n",
       "      <th>568</th>\n",
       "      <td>High</td>\n",
       "      <td>28.110171</td>\n",
       "      <td>7.358169</td>\n",
       "      <td>Mega</td>\n",
       "      <td>297.626731</td>\n",
       "      <td>(262.23, 357.788]</td>\n",
       "    </tr>\n",
       "    <tr>\n",
       "      <th>569</th>\n",
       "      <td>Medium</td>\n",
       "      <td>11.401084</td>\n",
       "      <td>5.818697</td>\n",
       "      <td>Nano</td>\n",
       "      <td>145.416851</td>\n",
       "      <td>(115.616, 182.205]</td>\n",
       "    </tr>\n",
       "    <tr>\n",
       "      <th>570</th>\n",
       "      <td>Medium</td>\n",
       "      <td>21.119991</td>\n",
       "      <td>5.703028</td>\n",
       "      <td>Macro</td>\n",
       "      <td>209.326830</td>\n",
       "      <td>(182.205, 262.23]</td>\n",
       "    </tr>\n",
       "    <tr>\n",
       "      <th>571</th>\n",
       "      <td>Low</td>\n",
       "      <td>13.221237</td>\n",
       "      <td>3.660566</td>\n",
       "      <td>Micro</td>\n",
       "      <td>135.773151</td>\n",
       "      <td>(115.616, 182.205]</td>\n",
       "    </tr>\n",
       "  </tbody>\n",
       "</table>\n",
       "<p>564 rows × 6 columns</p>\n",
       "</div>"
      ],
      "text/plain": [
       "         TV      Radio  Social Media Influencer       Sales  \\\n",
       "0       Low   3.518070      2.293790      Micro   55.261284   \n",
       "1       Low   7.756876      2.572287       Mega   67.574904   \n",
       "2      High  20.348988      1.227180      Micro  272.250108   \n",
       "3    Medium  20.108487      2.728374       Mega  195.102176   \n",
       "4      High  31.653200      7.776978       Nano  273.960377   \n",
       "..      ...        ...           ...        ...         ...   \n",
       "567  Medium  14.656633      3.817980      Micro  191.521266   \n",
       "568    High  28.110171      7.358169       Mega  297.626731   \n",
       "569  Medium  11.401084      5.818697       Nano  145.416851   \n",
       "570  Medium  21.119991      5.703028      Macro  209.326830   \n",
       "571     Low  13.221237      3.660566      Micro  135.773151   \n",
       "\n",
       "            Sales_Range  \n",
       "0     (33.509, 115.616]  \n",
       "1     (33.509, 115.616]  \n",
       "2     (262.23, 357.788]  \n",
       "3     (182.205, 262.23]  \n",
       "4     (262.23, 357.788]  \n",
       "..                  ...  \n",
       "567   (182.205, 262.23]  \n",
       "568   (262.23, 357.788]  \n",
       "569  (115.616, 182.205]  \n",
       "570   (182.205, 262.23]  \n",
       "571  (115.616, 182.205]  \n",
       "\n",
       "[564 rows x 6 columns]"
      ]
     },
     "execution_count": 46,
     "metadata": {},
     "output_type": "execute_result"
    }
   ],
   "source": [
    "df"
   ]
  },
  {
   "cell_type": "code",
   "execution_count": 47,
   "id": "7fc54174",
   "metadata": {},
   "outputs": [
    {
     "data": {
      "image/png": "[encoded data removed]",
      "text/plain": [
       "<Figure size 432x288 with 1 Axes>"
      ]
     },
     "metadata": {
      "needs_background": "light"
     },
     "output_type": "display_data"
    }
   ],
   "source": [
    "sns.boxplot(x=df['Sales_Range'],y=df['Radio'])\n",
    "plt.xticks(rotation=90)\n",
    "plt.show()"
   ]
  },
  {
   "cell_type": "code",
   "execution_count": 48,
   "id": "18ecaa9f",
   "metadata": {},
   "outputs": [
    {
     "data": {
      "image/png": "[encoded data removed]",
      "text/plain": [
       "<Figure size 432x288 with 1 Axes>"
      ]
     },
     "metadata": {
      "needs_background": "light"
     },
     "output_type": "display_data"
    }
   ],
   "source": [
    "sns.boxplot(x=df['Sales_Range'],y=df['Social Media'])\n",
    "plt.xticks(rotation=90)\n",
    "plt.show()"
   ]
  },
  {
   "cell_type": "code",
   "execution_count": 49,
   "id": "842f844f",
   "metadata": {},
   "outputs": [
    {
     "data": {
      "image/png": "[encoded data removed]",
      "text/plain": [
       "<Figure size 432x288 with 1 Axes>"
      ]
     },
     "metadata": {
      "needs_background": "light"
     },
     "output_type": "display_data"
    }
   ],
   "source": [
    "sns.boxplot(x=df['Sales_Range'],y=df['Social Media'],hue=df['TV'])\n",
    "plt.xticks(rotation=90)\n",
    "plt.show()"
   ]
  },
  {
   "cell_type": "code",
   "execution_count": 50,
   "id": "75306bbf",
   "metadata": {},
   "outputs": [
    {
     "data": {
      "image/png": "[encoded data removed]",
      "text/plain": [
       "<Figure size 432x288 with 1 Axes>"
      ]
     },
     "metadata": {
      "needs_background": "light"
     },
     "output_type": "display_data"
    }
   ],
   "source": [
    "sns.boxplot(x=df['Sales_Range'],y=df['Radio'],hue=df['TV'])\n",
    "plt.xticks(rotation=90)\n",
    "plt.show()"
   ]
  },
  {
   "cell_type": "code",
   "execution_count": 51,
   "id": "a74e26aa",
   "metadata": {},
   "outputs": [
    {
     "data": {
      "text/html": [
       "<div>\n",
       "<style scoped>\n",
       "    .dataframe tbody tr th:only-of-type {\n",
       "        vertical-align: middle;\n",
       "    }\n",
       "\n",
       "    .dataframe tbody tr th {\n",
       "        vertical-align: top;\n",
       "    }\n",
       "\n",
       "    .dataframe thead th {\n",
       "        text-align: right;\n",
       "    }\n",
       "</style>\n",
       "<table border=\"1\" class=\"dataframe\">\n",
       "  <thead>\n",
       "    <tr style=\"text-align: right;\">\n",
       "      <th></th>\n",
       "      <th>TV</th>\n",
       "      <th>Radio</th>\n",
       "      <th>Social Media</th>\n",
       "      <th>Influencer</th>\n",
       "      <th>Sales</th>\n",
       "      <th>Sales_Range</th>\n",
       "    </tr>\n",
       "  </thead>\n",
       "  <tbody>\n",
       "    <tr>\n",
       "      <th>0</th>\n",
       "      <td>Low</td>\n",
       "      <td>3.518070</td>\n",
       "      <td>2.293790</td>\n",
       "      <td>Micro</td>\n",
       "      <td>55.261284</td>\n",
       "      <td>(33.509, 115.616]</td>\n",
       "    </tr>\n",
       "    <tr>\n",
       "      <th>1</th>\n",
       "      <td>Low</td>\n",
       "      <td>7.756876</td>\n",
       "      <td>2.572287</td>\n",
       "      <td>Mega</td>\n",
       "      <td>67.574904</td>\n",
       "      <td>(33.509, 115.616]</td>\n",
       "    </tr>\n",
       "    <tr>\n",
       "      <th>2</th>\n",
       "      <td>High</td>\n",
       "      <td>20.348988</td>\n",
       "      <td>1.227180</td>\n",
       "      <td>Micro</td>\n",
       "      <td>272.250108</td>\n",
       "      <td>(262.23, 357.788]</td>\n",
       "    </tr>\n",
       "    <tr>\n",
       "      <th>3</th>\n",
       "      <td>Medium</td>\n",
       "      <td>20.108487</td>\n",
       "      <td>2.728374</td>\n",
       "      <td>Mega</td>\n",
       "      <td>195.102176</td>\n",
       "      <td>(182.205, 262.23]</td>\n",
       "    </tr>\n",
       "    <tr>\n",
       "      <th>4</th>\n",
       "      <td>High</td>\n",
       "      <td>31.653200</td>\n",
       "      <td>7.776978</td>\n",
       "      <td>Nano</td>\n",
       "      <td>273.960377</td>\n",
       "      <td>(262.23, 357.788]</td>\n",
       "    </tr>\n",
       "    <tr>\n",
       "      <th>...</th>\n",
       "      <td>...</td>\n",
       "      <td>...</td>\n",
       "      <td>...</td>\n",
       "      <td>...</td>\n",
       "      <td>...</td>\n",
       "      <td>...</td>\n",
       "    </tr>\n",
       "    <tr>\n",
       "      <th>567</th>\n",
       "      <td>Medium</td>\n",
       "      <td>14.656633</td>\n",
       "      <td>3.817980</td>\n",
       "      <td>Micro</td>\n",
       "      <td>191.521266</td>\n",
       "      <td>(182.205, 262.23]</td>\n",
       "    </tr>\n",
       "    <tr>\n",
       "      <th>568</th>\n",
       "      <td>High</td>\n",
       "      <td>28.110171</td>\n",
       "      <td>7.358169</td>\n",
       "      <td>Mega</td>\n",
       "      <td>297.626731</td>\n",
       "      <td>(262.23, 357.788]</td>\n",
       "    </tr>\n",
       "    <tr>\n",
       "      <th>569</th>\n",
       "      <td>Medium</td>\n",
       "      <td>11.401084</td>\n",
       "      <td>5.818697</td>\n",
       "      <td>Nano</td>\n",
       "      <td>145.416851</td>\n",
       "      <td>(115.616, 182.205]</td>\n",
       "    </tr>\n",
       "    <tr>\n",
       "      <th>570</th>\n",
       "      <td>Medium</td>\n",
       "      <td>21.119991</td>\n",
       "      <td>5.703028</td>\n",
       "      <td>Macro</td>\n",
       "      <td>209.326830</td>\n",
       "      <td>(182.205, 262.23]</td>\n",
       "    </tr>\n",
       "    <tr>\n",
       "      <th>571</th>\n",
       "      <td>Low</td>\n",
       "      <td>13.221237</td>\n",
       "      <td>3.660566</td>\n",
       "      <td>Micro</td>\n",
       "      <td>135.773151</td>\n",
       "      <td>(115.616, 182.205]</td>\n",
       "    </tr>\n",
       "  </tbody>\n",
       "</table>\n",
       "<p>564 rows × 6 columns</p>\n",
       "</div>"
      ],
      "text/plain": [
       "         TV      Radio  Social Media Influencer       Sales  \\\n",
       "0       Low   3.518070      2.293790      Micro   55.261284   \n",
       "1       Low   7.756876      2.572287       Mega   67.574904   \n",
       "2      High  20.348988      1.227180      Micro  272.250108   \n",
       "3    Medium  20.108487      2.728374       Mega  195.102176   \n",
       "4      High  31.653200      7.776978       Nano  273.960377   \n",
       "..      ...        ...           ...        ...         ...   \n",
       "567  Medium  14.656633      3.817980      Micro  191.521266   \n",
       "568    High  28.110171      7.358169       Mega  297.626731   \n",
       "569  Medium  11.401084      5.818697       Nano  145.416851   \n",
       "570  Medium  21.119991      5.703028      Macro  209.326830   \n",
       "571     Low  13.221237      3.660566      Micro  135.773151   \n",
       "\n",
       "            Sales_Range  \n",
       "0     (33.509, 115.616]  \n",
       "1     (33.509, 115.616]  \n",
       "2     (262.23, 357.788]  \n",
       "3     (182.205, 262.23]  \n",
       "4     (262.23, 357.788]  \n",
       "..                  ...  \n",
       "567   (182.205, 262.23]  \n",
       "568   (262.23, 357.788]  \n",
       "569  (115.616, 182.205]  \n",
       "570   (182.205, 262.23]  \n",
       "571  (115.616, 182.205]  \n",
       "\n",
       "[564 rows x 6 columns]"
      ]
     },
     "execution_count": 51,
     "metadata": {},
     "output_type": "execute_result"
    }
   ],
   "source": [
    "df"
   ]
  },
  {
   "cell_type": "code",
   "execution_count": 52,
   "id": "753a904d",
   "metadata": {},
   "outputs": [
    {
     "name": "stderr",
     "output_type": "stream",
     "text": [
      "C:\\Users\\himanshu\\anaconda3\\lib\\site-packages\\seaborn\\distributions.py:2619: FutureWarning: `distplot` is a deprecated function and will be removed in a future version. Please adapt your code to use either `displot` (a figure-level function with similar flexibility) or `histplot` (an axes-level function for histograms).\n",
      "  warnings.warn(msg, FutureWarning)\n"
     ]
    },
    {
     "data": {
      "text/plain": [
       "<AxesSubplot:ylabel='Density'>"
      ]
     },
     "execution_count": 52,
     "metadata": {},
     "output_type": "execute_result"
    },
    {
     "data": {
      "image/png": "[encoded data removed]",
      "text/plain": [
       "<Figure size 432x288 with 1 Axes>"
      ]
     },
     "metadata": {
      "needs_background": "light"
     },
     "output_type": "display_data"
    }
   ],
   "source": [
    "sns.distplot(x=df['Radio'])"
   ]
  },
  {
   "cell_type": "code",
   "execution_count": 53,
   "id": "e1a13d13",
   "metadata": {},
   "outputs": [
    {
     "name": "stderr",
     "output_type": "stream",
     "text": [
      "C:\\Users\\himanshu\\anaconda3\\lib\\site-packages\\seaborn\\distributions.py:2619: FutureWarning: `distplot` is a deprecated function and will be removed in a future version. Please adapt your code to use either `displot` (a figure-level function with similar flexibility) or `histplot` (an axes-level function for histograms).\n",
      "  warnings.warn(msg, FutureWarning)\n"
     ]
    },
    {
     "data": {
      "text/plain": [
       "<AxesSubplot:xlabel='Social Media', ylabel='Density'>"
      ]
     },
     "execution_count": 53,
     "metadata": {},
     "output_type": "execute_result"
    },
    {
     "data": {
      "image/png": "[encoded data removed]",
      "text/plain": [
       "<Figure size 432x288 with 1 Axes>"
      ]
     },
     "metadata": {
      "needs_background": "light"
     },
     "output_type": "display_data"
    }
   ],
   "source": [
    "sns.distplot(df['Social Media'])"
   ]
  },
  {
   "cell_type": "code",
   "execution_count": 54,
   "id": "2d9283b8",
   "metadata": {},
   "outputs": [
    {
     "name": "stderr",
     "output_type": "stream",
     "text": [
      "C:\\Users\\himanshu\\anaconda3\\lib\\site-packages\\seaborn\\distributions.py:2619: FutureWarning: `distplot` is a deprecated function and will be removed in a future version. Please adapt your code to use either `displot` (a figure-level function with similar flexibility) or `histplot` (an axes-level function for histograms).\n",
      "  warnings.warn(msg, FutureWarning)\n"
     ]
    },
    {
     "data": {
      "text/plain": [
       "<AxesSubplot:xlabel='Sales', ylabel='Density'>"
      ]
     },
     "execution_count": 54,
     "metadata": {},
     "output_type": "execute_result"
    },
    {
     "data": {
      "image/png": "[encoded data removed]",
      "text/plain": [
       "<Figure size 432x288 with 1 Axes>"
      ]
     },
     "metadata": {
      "needs_background": "light"
     },
     "output_type": "display_data"
    }
   ],
   "source": [
    "sns.distplot(df['Sales'])"
   ]
  },
  {
   "cell_type": "code",
   "execution_count": 55,
   "id": "c60ce034",
   "metadata": {},
   "outputs": [
    {
     "data": {
      "text/html": [
       "<div>\n",
       "<style scoped>\n",
       "    .dataframe tbody tr th:only-of-type {\n",
       "        vertical-align: middle;\n",
       "    }\n",
       "\n",
       "    .dataframe tbody tr th {\n",
       "        vertical-align: top;\n",
       "    }\n",
       "\n",
       "    .dataframe thead th {\n",
       "        text-align: right;\n",
       "    }\n",
       "</style>\n",
       "<table border=\"1\" class=\"dataframe\">\n",
       "  <thead>\n",
       "    <tr style=\"text-align: right;\">\n",
       "      <th></th>\n",
       "      <th>TV</th>\n",
       "      <th>Radio</th>\n",
       "      <th>Social Media</th>\n",
       "      <th>Influencer</th>\n",
       "      <th>Sales</th>\n",
       "      <th>Sales_Range</th>\n",
       "    </tr>\n",
       "  </thead>\n",
       "  <tbody>\n",
       "    <tr>\n",
       "      <th>0</th>\n",
       "      <td>Low</td>\n",
       "      <td>3.518070</td>\n",
       "      <td>2.293790</td>\n",
       "      <td>Micro</td>\n",
       "      <td>55.261284</td>\n",
       "      <td>(33.509, 115.616]</td>\n",
       "    </tr>\n",
       "    <tr>\n",
       "      <th>1</th>\n",
       "      <td>Low</td>\n",
       "      <td>7.756876</td>\n",
       "      <td>2.572287</td>\n",
       "      <td>Mega</td>\n",
       "      <td>67.574904</td>\n",
       "      <td>(33.509, 115.616]</td>\n",
       "    </tr>\n",
       "    <tr>\n",
       "      <th>2</th>\n",
       "      <td>High</td>\n",
       "      <td>20.348988</td>\n",
       "      <td>1.227180</td>\n",
       "      <td>Micro</td>\n",
       "      <td>272.250108</td>\n",
       "      <td>(262.23, 357.788]</td>\n",
       "    </tr>\n",
       "    <tr>\n",
       "      <th>3</th>\n",
       "      <td>Medium</td>\n",
       "      <td>20.108487</td>\n",
       "      <td>2.728374</td>\n",
       "      <td>Mega</td>\n",
       "      <td>195.102176</td>\n",
       "      <td>(182.205, 262.23]</td>\n",
       "    </tr>\n",
       "    <tr>\n",
       "      <th>4</th>\n",
       "      <td>High</td>\n",
       "      <td>31.653200</td>\n",
       "      <td>7.776978</td>\n",
       "      <td>Nano</td>\n",
       "      <td>273.960377</td>\n",
       "      <td>(262.23, 357.788]</td>\n",
       "    </tr>\n",
       "    <tr>\n",
       "      <th>...</th>\n",
       "      <td>...</td>\n",
       "      <td>...</td>\n",
       "      <td>...</td>\n",
       "      <td>...</td>\n",
       "      <td>...</td>\n",
       "      <td>...</td>\n",
       "    </tr>\n",
       "    <tr>\n",
       "      <th>567</th>\n",
       "      <td>Medium</td>\n",
       "      <td>14.656633</td>\n",
       "      <td>3.817980</td>\n",
       "      <td>Micro</td>\n",
       "      <td>191.521266</td>\n",
       "      <td>(182.205, 262.23]</td>\n",
       "    </tr>\n",
       "    <tr>\n",
       "      <th>568</th>\n",
       "      <td>High</td>\n",
       "      <td>28.110171</td>\n",
       "      <td>7.358169</td>\n",
       "      <td>Mega</td>\n",
       "      <td>297.626731</td>\n",
       "      <td>(262.23, 357.788]</td>\n",
       "    </tr>\n",
       "    <tr>\n",
       "      <th>569</th>\n",
       "      <td>Medium</td>\n",
       "      <td>11.401084</td>\n",
       "      <td>5.818697</td>\n",
       "      <td>Nano</td>\n",
       "      <td>145.416851</td>\n",
       "      <td>(115.616, 182.205]</td>\n",
       "    </tr>\n",
       "    <tr>\n",
       "      <th>570</th>\n",
       "      <td>Medium</td>\n",
       "      <td>21.119991</td>\n",
       "      <td>5.703028</td>\n",
       "      <td>Macro</td>\n",
       "      <td>209.326830</td>\n",
       "      <td>(182.205, 262.23]</td>\n",
       "    </tr>\n",
       "    <tr>\n",
       "      <th>571</th>\n",
       "      <td>Low</td>\n",
       "      <td>13.221237</td>\n",
       "      <td>3.660566</td>\n",
       "      <td>Micro</td>\n",
       "      <td>135.773151</td>\n",
       "      <td>(115.616, 182.205]</td>\n",
       "    </tr>\n",
       "  </tbody>\n",
       "</table>\n",
       "<p>564 rows × 6 columns</p>\n",
       "</div>"
      ],
      "text/plain": [
       "         TV      Radio  Social Media Influencer       Sales  \\\n",
       "0       Low   3.518070      2.293790      Micro   55.261284   \n",
       "1       Low   7.756876      2.572287       Mega   67.574904   \n",
       "2      High  20.348988      1.227180      Micro  272.250108   \n",
       "3    Medium  20.108487      2.728374       Mega  195.102176   \n",
       "4      High  31.653200      7.776978       Nano  273.960377   \n",
       "..      ...        ...           ...        ...         ...   \n",
       "567  Medium  14.656633      3.817980      Micro  191.521266   \n",
       "568    High  28.110171      7.358169       Mega  297.626731   \n",
       "569  Medium  11.401084      5.818697       Nano  145.416851   \n",
       "570  Medium  21.119991      5.703028      Macro  209.326830   \n",
       "571     Low  13.221237      3.660566      Micro  135.773151   \n",
       "\n",
       "            Sales_Range  \n",
       "0     (33.509, 115.616]  \n",
       "1     (33.509, 115.616]  \n",
       "2     (262.23, 357.788]  \n",
       "3     (182.205, 262.23]  \n",
       "4     (262.23, 357.788]  \n",
       "..                  ...  \n",
       "567   (182.205, 262.23]  \n",
       "568   (262.23, 357.788]  \n",
       "569  (115.616, 182.205]  \n",
       "570   (182.205, 262.23]  \n",
       "571  (115.616, 182.205]  \n",
       "\n",
       "[564 rows x 6 columns]"
      ]
     },
     "execution_count": 55,
     "metadata": {},
     "output_type": "execute_result"
    }
   ],
   "source": [
    "df"
   ]
  },
  {
   "cell_type": "code",
   "execution_count": 56,
   "id": "ee9884aa",
   "metadata": {},
   "outputs": [],
   "source": [
    "le=LabelEncoder()\n"
   ]
  },
  {
   "cell_type": "code",
   "execution_count": 57,
   "id": "3593dfaf",
   "metadata": {},
   "outputs": [
    {
     "name": "stderr",
     "output_type": "stream",
     "text": [
      "C:\\Users\\himanshu\\AppData\\Local\\Temp\\ipykernel_18524\\2393668798.py:1: SettingWithCopyWarning: \n",
      "A value is trying to be set on a copy of a slice from a DataFrame.\n",
      "Try using .loc[row_indexer,col_indexer] = value instead\n",
      "\n",
      "See the caveats in the documentation: https://pandas.pydata.org/pandas-docs/stable/user_guide/indexing.html#returning-a-view-versus-a-copy\n",
      "  df['TV']=le.fit_transform(df['TV'])\n"
     ]
    }
   ],
   "source": [
    "df['TV']=le.fit_transform(df['TV'])"
   ]
  },
  {
   "cell_type": "code",
   "execution_count": 58,
   "id": "ca528b93",
   "metadata": {},
   "outputs": [
    {
     "name": "stderr",
     "output_type": "stream",
     "text": [
      "C:\\Users\\himanshu\\AppData\\Local\\Temp\\ipykernel_18524\\3243106852.py:1: SettingWithCopyWarning: \n",
      "A value is trying to be set on a copy of a slice from a DataFrame.\n",
      "Try using .loc[row_indexer,col_indexer] = value instead\n",
      "\n",
      "See the caveats in the documentation: https://pandas.pydata.org/pandas-docs/stable/user_guide/indexing.html#returning-a-view-versus-a-copy\n",
      "  df['Influencer']=le.fit_transform(df['Influencer'])\n"
     ]
    }
   ],
   "source": [
    "df['Influencer']=le.fit_transform(df['Influencer'])"
   ]
  },
  {
   "cell_type": "code",
   "execution_count": 59,
   "id": "e75de2f1",
   "metadata": {},
   "outputs": [
    {
     "data": {
      "text/html": [
       "<div>\n",
       "<style scoped>\n",
       "    .dataframe tbody tr th:only-of-type {\n",
       "        vertical-align: middle;\n",
       "    }\n",
       "\n",
       "    .dataframe tbody tr th {\n",
       "        vertical-align: top;\n",
       "    }\n",
       "\n",
       "    .dataframe thead th {\n",
       "        text-align: right;\n",
       "    }\n",
       "</style>\n",
       "<table border=\"1\" class=\"dataframe\">\n",
       "  <thead>\n",
       "    <tr style=\"text-align: right;\">\n",
       "      <th></th>\n",
       "      <th>TV</th>\n",
       "      <th>Radio</th>\n",
       "      <th>Social Media</th>\n",
       "      <th>Influencer</th>\n",
       "      <th>Sales</th>\n",
       "      <th>Sales_Range</th>\n",
       "    </tr>\n",
       "  </thead>\n",
       "  <tbody>\n",
       "    <tr>\n",
       "      <th>0</th>\n",
       "      <td>1</td>\n",
       "      <td>3.518070</td>\n",
       "      <td>2.293790</td>\n",
       "      <td>2</td>\n",
       "      <td>55.261284</td>\n",
       "      <td>(33.509, 115.616]</td>\n",
       "    </tr>\n",
       "    <tr>\n",
       "      <th>1</th>\n",
       "      <td>1</td>\n",
       "      <td>7.756876</td>\n",
       "      <td>2.572287</td>\n",
       "      <td>1</td>\n",
       "      <td>67.574904</td>\n",
       "      <td>(33.509, 115.616]</td>\n",
       "    </tr>\n",
       "    <tr>\n",
       "      <th>2</th>\n",
       "      <td>0</td>\n",
       "      <td>20.348988</td>\n",
       "      <td>1.227180</td>\n",
       "      <td>2</td>\n",
       "      <td>272.250108</td>\n",
       "      <td>(262.23, 357.788]</td>\n",
       "    </tr>\n",
       "    <tr>\n",
       "      <th>3</th>\n",
       "      <td>2</td>\n",
       "      <td>20.108487</td>\n",
       "      <td>2.728374</td>\n",
       "      <td>1</td>\n",
       "      <td>195.102176</td>\n",
       "      <td>(182.205, 262.23]</td>\n",
       "    </tr>\n",
       "    <tr>\n",
       "      <th>4</th>\n",
       "      <td>0</td>\n",
       "      <td>31.653200</td>\n",
       "      <td>7.776978</td>\n",
       "      <td>3</td>\n",
       "      <td>273.960377</td>\n",
       "      <td>(262.23, 357.788]</td>\n",
       "    </tr>\n",
       "    <tr>\n",
       "      <th>...</th>\n",
       "      <td>...</td>\n",
       "      <td>...</td>\n",
       "      <td>...</td>\n",
       "      <td>...</td>\n",
       "      <td>...</td>\n",
       "      <td>...</td>\n",
       "    </tr>\n",
       "    <tr>\n",
       "      <th>567</th>\n",
       "      <td>2</td>\n",
       "      <td>14.656633</td>\n",
       "      <td>3.817980</td>\n",
       "      <td>2</td>\n",
       "      <td>191.521266</td>\n",
       "      <td>(182.205, 262.23]</td>\n",
       "    </tr>\n",
       "    <tr>\n",
       "      <th>568</th>\n",
       "      <td>0</td>\n",
       "      <td>28.110171</td>\n",
       "      <td>7.358169</td>\n",
       "      <td>1</td>\n",
       "      <td>297.626731</td>\n",
       "      <td>(262.23, 357.788]</td>\n",
       "    </tr>\n",
       "    <tr>\n",
       "      <th>569</th>\n",
       "      <td>2</td>\n",
       "      <td>11.401084</td>\n",
       "      <td>5.818697</td>\n",
       "      <td>3</td>\n",
       "      <td>145.416851</td>\n",
       "      <td>(115.616, 182.205]</td>\n",
       "    </tr>\n",
       "    <tr>\n",
       "      <th>570</th>\n",
       "      <td>2</td>\n",
       "      <td>21.119991</td>\n",
       "      <td>5.703028</td>\n",
       "      <td>0</td>\n",
       "      <td>209.326830</td>\n",
       "      <td>(182.205, 262.23]</td>\n",
       "    </tr>\n",
       "    <tr>\n",
       "      <th>571</th>\n",
       "      <td>1</td>\n",
       "      <td>13.221237</td>\n",
       "      <td>3.660566</td>\n",
       "      <td>2</td>\n",
       "      <td>135.773151</td>\n",
       "      <td>(115.616, 182.205]</td>\n",
       "    </tr>\n",
       "  </tbody>\n",
       "</table>\n",
       "<p>564 rows × 6 columns</p>\n",
       "</div>"
      ],
      "text/plain": [
       "     TV      Radio  Social Media  Influencer       Sales         Sales_Range\n",
       "0     1   3.518070      2.293790           2   55.261284   (33.509, 115.616]\n",
       "1     1   7.756876      2.572287           1   67.574904   (33.509, 115.616]\n",
       "2     0  20.348988      1.227180           2  272.250108   (262.23, 357.788]\n",
       "3     2  20.108487      2.728374           1  195.102176   (182.205, 262.23]\n",
       "4     0  31.653200      7.776978           3  273.960377   (262.23, 357.788]\n",
       "..   ..        ...           ...         ...         ...                 ...\n",
       "567   2  14.656633      3.817980           2  191.521266   (182.205, 262.23]\n",
       "568   0  28.110171      7.358169           1  297.626731   (262.23, 357.788]\n",
       "569   2  11.401084      5.818697           3  145.416851  (115.616, 182.205]\n",
       "570   2  21.119991      5.703028           0  209.326830   (182.205, 262.23]\n",
       "571   1  13.221237      3.660566           2  135.773151  (115.616, 182.205]\n",
       "\n",
       "[564 rows x 6 columns]"
      ]
     },
     "execution_count": 59,
     "metadata": {},
     "output_type": "execute_result"
    }
   ],
   "source": [
    "df"
   ]
  },
  {
   "cell_type": "code",
   "execution_count": 60,
   "id": "9b6c650f",
   "metadata": {},
   "outputs": [],
   "source": [
    "df=df.drop('Sales_Range',axis=1)\n"
   ]
  },
  {
   "cell_type": "code",
   "execution_count": 61,
   "id": "4d234757",
   "metadata": {},
   "outputs": [
    {
     "data": {
      "text/html": [
       "<div>\n",
       "<style scoped>\n",
       "    .dataframe tbody tr th:only-of-type {\n",
       "        vertical-align: middle;\n",
       "    }\n",
       "\n",
       "    .dataframe tbody tr th {\n",
       "        vertical-align: top;\n",
       "    }\n",
       "\n",
       "    .dataframe thead th {\n",
       "        text-align: right;\n",
       "    }\n",
       "</style>\n",
       "<table border=\"1\" class=\"dataframe\">\n",
       "  <thead>\n",
       "    <tr style=\"text-align: right;\">\n",
       "      <th></th>\n",
       "      <th>TV</th>\n",
       "      <th>Radio</th>\n",
       "      <th>Social Media</th>\n",
       "      <th>Influencer</th>\n",
       "      <th>Sales</th>\n",
       "    </tr>\n",
       "  </thead>\n",
       "  <tbody>\n",
       "    <tr>\n",
       "      <th>0</th>\n",
       "      <td>1</td>\n",
       "      <td>3.518070</td>\n",
       "      <td>2.293790</td>\n",
       "      <td>2</td>\n",
       "      <td>55.261284</td>\n",
       "    </tr>\n",
       "    <tr>\n",
       "      <th>1</th>\n",
       "      <td>1</td>\n",
       "      <td>7.756876</td>\n",
       "      <td>2.572287</td>\n",
       "      <td>1</td>\n",
       "      <td>67.574904</td>\n",
       "    </tr>\n",
       "    <tr>\n",
       "      <th>2</th>\n",
       "      <td>0</td>\n",
       "      <td>20.348988</td>\n",
       "      <td>1.227180</td>\n",
       "      <td>2</td>\n",
       "      <td>272.250108</td>\n",
       "    </tr>\n",
       "    <tr>\n",
       "      <th>3</th>\n",
       "      <td>2</td>\n",
       "      <td>20.108487</td>\n",
       "      <td>2.728374</td>\n",
       "      <td>1</td>\n",
       "      <td>195.102176</td>\n",
       "    </tr>\n",
       "    <tr>\n",
       "      <th>4</th>\n",
       "      <td>0</td>\n",
       "      <td>31.653200</td>\n",
       "      <td>7.776978</td>\n",
       "      <td>3</td>\n",
       "      <td>273.960377</td>\n",
       "    </tr>\n",
       "    <tr>\n",
       "      <th>...</th>\n",
       "      <td>...</td>\n",
       "      <td>...</td>\n",
       "      <td>...</td>\n",
       "      <td>...</td>\n",
       "      <td>...</td>\n",
       "    </tr>\n",
       "    <tr>\n",
       "      <th>567</th>\n",
       "      <td>2</td>\n",
       "      <td>14.656633</td>\n",
       "      <td>3.817980</td>\n",
       "      <td>2</td>\n",
       "      <td>191.521266</td>\n",
       "    </tr>\n",
       "    <tr>\n",
       "      <th>568</th>\n",
       "      <td>0</td>\n",
       "      <td>28.110171</td>\n",
       "      <td>7.358169</td>\n",
       "      <td>1</td>\n",
       "      <td>297.626731</td>\n",
       "    </tr>\n",
       "    <tr>\n",
       "      <th>569</th>\n",
       "      <td>2</td>\n",
       "      <td>11.401084</td>\n",
       "      <td>5.818697</td>\n",
       "      <td>3</td>\n",
       "      <td>145.416851</td>\n",
       "    </tr>\n",
       "    <tr>\n",
       "      <th>570</th>\n",
       "      <td>2</td>\n",
       "      <td>21.119991</td>\n",
       "      <td>5.703028</td>\n",
       "      <td>0</td>\n",
       "      <td>209.326830</td>\n",
       "    </tr>\n",
       "    <tr>\n",
       "      <th>571</th>\n",
       "      <td>1</td>\n",
       "      <td>13.221237</td>\n",
       "      <td>3.660566</td>\n",
       "      <td>2</td>\n",
       "      <td>135.773151</td>\n",
       "    </tr>\n",
       "  </tbody>\n",
       "</table>\n",
       "<p>564 rows × 5 columns</p>\n",
       "</div>"
      ],
      "text/plain": [
       "     TV      Radio  Social Media  Influencer       Sales\n",
       "0     1   3.518070      2.293790           2   55.261284\n",
       "1     1   7.756876      2.572287           1   67.574904\n",
       "2     0  20.348988      1.227180           2  272.250108\n",
       "3     2  20.108487      2.728374           1  195.102176\n",
       "4     0  31.653200      7.776978           3  273.960377\n",
       "..   ..        ...           ...         ...         ...\n",
       "567   2  14.656633      3.817980           2  191.521266\n",
       "568   0  28.110171      7.358169           1  297.626731\n",
       "569   2  11.401084      5.818697           3  145.416851\n",
       "570   2  21.119991      5.703028           0  209.326830\n",
       "571   1  13.221237      3.660566           2  135.773151\n",
       "\n",
       "[564 rows x 5 columns]"
      ]
     },
     "execution_count": 61,
     "metadata": {},
     "output_type": "execute_result"
    }
   ],
   "source": [
    "df"
   ]
  },
  {
   "cell_type": "code",
   "execution_count": 62,
   "id": "6983f47f",
   "metadata": {},
   "outputs": [],
   "source": [
    "y=df['Sales']"
   ]
  },
  {
   "cell_type": "code",
   "execution_count": 63,
   "id": "01e0d802",
   "metadata": {},
   "outputs": [],
   "source": [
    "X=df.drop('Sales',axis=1)"
   ]
  },
  {
   "cell_type": "code",
   "execution_count": 64,
   "id": "07e2a847",
   "metadata": {},
   "outputs": [],
   "source": [
    "sc=StandardScaler()"
   ]
  },
  {
   "cell_type": "code",
   "execution_count": 65,
   "id": "1cc5749e",
   "metadata": {},
   "outputs": [],
   "source": [
    "X=sc.fit_transform(X)\n"
   ]
  },
  {
   "cell_type": "code",
   "execution_count": 66,
   "id": "4618e90b",
   "metadata": {},
   "outputs": [
    {
     "data": {
      "text/plain": [
       "array([[-0.09994893, -1.50583183, -0.4499847 ,  0.36704516],\n",
       "       [-0.09994893, -1.04309174, -0.31695415, -0.53301341],\n",
       "       [-1.35264216,  0.33155831, -0.95947647,  0.36704516],\n",
       "       ...,\n",
       "       [ 1.1527443 , -0.64526242,  1.2337714 ,  1.26710374],\n",
       "       [ 1.1527443 ,  0.41572688,  1.17851956, -1.43307198],\n",
       "       [-0.09994893, -0.44656077,  0.20288854,  0.36704516]])"
      ]
     },
     "execution_count": 66,
     "metadata": {},
     "output_type": "execute_result"
    }
   ],
   "source": [
    "X"
   ]
  },
  {
   "cell_type": "code",
   "execution_count": 67,
   "id": "4c573b0b",
   "metadata": {},
   "outputs": [],
   "source": [
    "X_train, X_test, y_train, y_test = train_test_split(X, y, test_size=0.20, random_state=42)"
   ]
  },
  {
   "cell_type": "code",
   "execution_count": 68,
   "id": "5e252b0a",
   "metadata": {},
   "outputs": [
    {
     "data": {
      "text/plain": [
       "(451, 4)"
      ]
     },
     "execution_count": 68,
     "metadata": {},
     "output_type": "execute_result"
    }
   ],
   "source": [
    "X_train.shape"
   ]
  },
  {
   "cell_type": "code",
   "execution_count": 69,
   "id": "5c689913",
   "metadata": {},
   "outputs": [
    {
     "data": {
      "text/plain": [
       "(113, 4)"
      ]
     },
     "execution_count": 69,
     "metadata": {},
     "output_type": "execute_result"
    }
   ],
   "source": [
    "X_test.shape"
   ]
  },
  {
   "cell_type": "markdown",
   "id": "a4a15859",
   "metadata": {},
   "source": [
    "# RandomForestRegressor"
   ]
  },
  {
   "cell_type": "code",
   "execution_count": 70,
   "id": "a7cc6220",
   "metadata": {},
   "outputs": [],
   "source": [
    "rfr=RandomForestRegressor()\n"
   ]
  },
  {
   "cell_type": "code",
   "execution_count": 71,
   "id": "80f2b2da",
   "metadata": {},
   "outputs": [
    {
     "data": {
      "text/plain": [
       "RandomForestRegressor()"
      ]
     },
     "execution_count": 71,
     "metadata": {},
     "output_type": "execute_result"
    }
   ],
   "source": [
    "rfr.fit(X_train,y_train)"
   ]
  },
  {
   "cell_type": "code",
   "execution_count": 72,
   "id": "28dac87a",
   "metadata": {},
   "outputs": [],
   "source": [
    "y_pred=rfr.predict(X_train)\n"
   ]
  },
  {
   "cell_type": "code",
   "execution_count": 73,
   "id": "f5631d4d",
   "metadata": {},
   "outputs": [
    {
     "data": {
      "text/plain": [
       "array([ 98.26844808,  81.60748993, 114.93860449,  53.71611111,\n",
       "       154.2141263 ,  52.87579996,  90.65920821,  62.57759473,\n",
       "       151.01045864,  92.02961999,  90.87595686, 270.50526926,\n",
       "        69.67932716,  81.6204368 ,  58.60146701, 177.22029885,\n",
       "       295.72626414, 198.23237747, 304.83531963, 330.06576605,\n",
       "       113.81635089, 162.67206972, 280.46763428, 302.34486751,\n",
       "       171.95382964, 199.33365043, 286.01770368,  65.24333674,\n",
       "       121.70883242,  92.86226379, 217.44854391, 128.07347608,\n",
       "       205.49238385,  68.56639916, 185.35483344,  82.98119035,\n",
       "       204.7210184 , 336.93559332, 100.07921665, 320.78536419,\n",
       "       168.81762465, 298.31079779, 168.50222723, 263.21238363,\n",
       "        48.81330024, 226.92625073,  89.15810251,  82.26296147,\n",
       "        76.46121364, 331.27204632, 204.92739034, 283.83136153,\n",
       "       214.59610683, 306.17935422, 224.71727461, 305.50922528,\n",
       "       221.82184133, 287.72785845,  94.26901695, 329.71196129,\n",
       "       193.03128168, 199.98055896, 124.72415028,  90.95501586,\n",
       "       277.74706699,  46.93781044, 267.2561128 ,  69.30681214,\n",
       "       270.22378563, 113.1655579 , 108.34516858, 280.03966296,\n",
       "       159.48840827, 159.69443408,  78.10537337, 154.501447  ,\n",
       "        45.90875476, 196.8733107 , 316.28851456,  83.90602727,\n",
       "       202.54000388,  48.30206375, 110.21612404, 208.67513387,\n",
       "        59.72116771, 304.20097078, 274.40502813, 263.38351876,\n",
       "       218.55270168, 303.094617  , 226.59163395, 173.59733222,\n",
       "       196.03344881,  44.76373389, 276.43749619, 276.22309991,\n",
       "        96.49512876, 320.01930803, 189.26997781, 164.37691185,\n",
       "        85.76736508, 298.50847918, 218.00493612,  54.24039882,\n",
       "       275.64384429,  68.25763993, 121.03760575, 186.77076733,\n",
       "       181.30424779, 294.17944797, 115.3749039 , 228.49895381,\n",
       "       202.78928725, 172.32520046, 309.77552702,  59.13061531,\n",
       "       121.39342254, 274.07416304, 129.21779586, 305.77543535,\n",
       "       132.45743055, 133.33955899, 283.67961452, 232.03616505,\n",
       "       272.09998044, 285.20767022, 204.67573089,  73.48402362,\n",
       "       118.7564879 , 132.5915818 , 327.3082726 , 339.72252529,\n",
       "       172.04841591, 128.4097737 , 314.70386148, 123.395743  ,\n",
       "       171.65166183,  46.40892846, 190.04195175, 174.49618094,\n",
       "        48.07721366, 230.08183109, 344.10183932,  46.21658399,\n",
       "        52.09552317, 282.75815241, 164.13267364, 218.36581862,\n",
       "        98.93391327, 176.90274145, 100.94687529,  99.66087954,\n",
       "       171.43682508, 223.64001242, 163.55239847, 260.420943  ,\n",
       "        82.6678533 , 168.36802832, 217.2349029 , 336.98625619,\n",
       "       175.99441414, 217.94851025, 295.73270474, 192.44283374,\n",
       "        86.22035979, 164.348034  , 273.21940764, 314.45685931,\n",
       "       230.91007513, 152.10518812, 199.66624887,  65.94056742,\n",
       "       229.29509096, 308.25863128, 121.22175433, 111.32304153,\n",
       "       206.86153611, 122.97382212, 207.54714211,  80.85866531,\n",
       "       205.8343315 , 116.98535212, 160.96244231, 236.33924715,\n",
       "       253.78755903, 234.61520661,  84.26670324, 221.39403773,\n",
       "       107.29482492, 208.88505571, 268.47131023,  91.36753877,\n",
       "       276.58206007,  46.33081652, 219.24196807, 180.32061951,\n",
       "       285.67806634,  90.8396572 , 273.97184095, 329.40834134,\n",
       "       192.78254195, 204.51667923, 321.64544003, 131.01185736,\n",
       "       187.21226578, 182.97251682, 119.51116838, 301.88280821,\n",
       "        75.41101694, 344.2411729 , 295.67222971,  67.05647697,\n",
       "       273.40913213, 220.86895898, 103.66398325, 132.72855966,\n",
       "        88.50427584,  63.33947778, 318.24573692, 318.24180179,\n",
       "       168.89716534, 197.76326155, 262.48817748, 237.84307405,\n",
       "       328.07382887, 220.24591565,  68.54431923, 281.73561539,\n",
       "        87.68326069, 213.77190924, 235.21710212, 255.88372382,\n",
       "        89.42009157, 284.69462856,  57.9325611 , 162.96735502,\n",
       "       336.68525954, 110.31988273, 317.79312311, 338.08007269,\n",
       "       101.14027706, 298.45510249, 279.66180942, 130.91124498,\n",
       "       169.3108602 ,  85.07570337,  43.44329376, 286.82321195,\n",
       "        43.21362645,  70.91392051, 174.10269992, 157.38226494,\n",
       "       284.08714508, 315.45053544, 171.50035212, 170.78820304,\n",
       "       152.7449504 , 186.3574206 , 112.60675487,  87.60098069,\n",
       "       179.12495978, 221.89113547, 305.72440506,  59.73398553,\n",
       "       109.1981156 , 314.56916561, 309.49573246, 224.07901671,\n",
       "        54.71644006,  76.36799945, 296.55967603, 303.64455737,\n",
       "        91.40582555, 109.29408653, 198.42508667, 205.55575607,\n",
       "       104.28504261, 109.09142413, 129.36252913, 187.96137015,\n",
       "       221.09949347, 206.23390749, 133.98839969, 219.56946061,\n",
       "       304.3167726 ,  48.43596385, 282.0872801 , 179.83721155,\n",
       "        61.02432822, 316.13137952, 173.75255052, 287.65498301,\n",
       "       148.66570239, 271.07466851, 114.82368552,  75.15264012,\n",
       "       161.39704924, 221.1200966 ,  89.10607999, 280.26660544,\n",
       "       242.22670459, 215.21617737, 269.69239674, 194.72518374,\n",
       "       189.19975146, 175.01339532,  53.21319385, 105.4669395 ,\n",
       "       165.30257703,  54.58926555, 165.390095  , 123.24849708,\n",
       "       110.0398198 , 285.42971344, 114.02618564, 133.39350309,\n",
       "       222.12570417, 293.48250678, 220.69891075,  73.88172897,\n",
       "       295.64564379, 259.99442858,  92.38699087, 321.76264159,\n",
       "       329.40570219, 224.0153228 , 115.44008827,  61.25595461,\n",
       "       287.41745812, 285.31388044, 206.75488523, 245.61412452,\n",
       "       211.18813339, 202.8575977 , 201.85082154, 177.92848895,\n",
       "       169.58851817, 181.71720424,  75.51375747, 328.90274929,\n",
       "        61.21574574, 155.6458978 ,  70.54633066, 328.8431486 ,\n",
       "       123.26386765, 213.75533951, 168.87001307, 287.98477658,\n",
       "        53.19047933, 200.70792679,  78.66106216, 192.78388415,\n",
       "        82.06615878,  97.28434407, 280.37852424, 235.15623383,\n",
       "       288.89217448, 291.32876388, 106.88707089, 284.8255726 ,\n",
       "        67.6868244 , 332.75445677, 180.34265643, 297.85784303,\n",
       "       272.94886044,  53.18273231, 273.33645975, 134.07857124,\n",
       "        91.11826835, 113.8558635 , 116.24670022, 176.85573439,\n",
       "       290.77536027, 168.93221634, 189.01975415, 154.32979212,\n",
       "       337.50423816,  72.04302224, 171.95983092, 108.36187782,\n",
       "        94.78293796, 341.46099276, 284.19756049, 234.26331193,\n",
       "       189.43308466, 206.91670888, 121.04068072,  81.82299913,\n",
       "       224.02249028,  93.80808314, 188.26900833, 106.35652727,\n",
       "       330.23807389,  80.51764013, 202.10425013, 163.3229456 ,\n",
       "       240.45775699, 227.9505163 , 279.09412793, 205.55648484,\n",
       "       183.77914346,  96.06938125, 303.67462082, 278.77571073,\n",
       "       166.84977242, 119.81984998, 295.73710012, 311.03169401,\n",
       "       336.86537836, 212.84853606, 101.35353934, 199.73625037,\n",
       "        64.23955223, 164.04973787, 309.57023556, 106.35800184,\n",
       "       224.80096957, 106.24004948, 332.12886379, 147.44094318,\n",
       "       216.8282851 ,  86.9760528 ,  79.47903886,  92.35121245,\n",
       "        82.76294783, 299.46734649, 292.59199568, 209.94298945,\n",
       "       125.59348036, 105.84467934, 169.45055091, 282.39188292,\n",
       "       235.73855339, 215.11490954,  89.15332932, 152.66963941,\n",
       "       267.75977941, 231.17182127, 168.96559017, 316.98393219,\n",
       "       307.31748102, 160.80185017, 262.74505689,  45.99080622,\n",
       "       198.25927584, 231.15761374, 109.12496562, 182.33133644,\n",
       "       304.92550446, 100.75171625, 213.67797036])"
      ]
     },
     "execution_count": 73,
     "metadata": {},
     "output_type": "execute_result"
    }
   ],
   "source": [
    "y_pred"
   ]
  },
  {
   "cell_type": "code",
   "execution_count": 74,
   "id": "1152e50b",
   "metadata": {},
   "outputs": [
    {
     "data": {
      "text/plain": [
       "0.9831908605905191"
      ]
     },
     "execution_count": 74,
     "metadata": {},
     "output_type": "execute_result"
    }
   ],
   "source": [
    "r2_score(y_train,y_pred)"
   ]
  },
  {
   "cell_type": "code",
   "execution_count": 75,
   "id": "62f03554",
   "metadata": {},
   "outputs": [],
   "source": [
    "y_pred=rfr.predict(X_test)\n"
   ]
  },
  {
   "cell_type": "code",
   "execution_count": 76,
   "id": "e99826d7",
   "metadata": {},
   "outputs": [
    {
     "data": {
      "text/plain": [
       "0.9069171896386587"
      ]
     },
     "execution_count": 76,
     "metadata": {},
     "output_type": "execute_result"
    }
   ],
   "source": [
    "r2_score(y_test,y_pred)"
   ]
  },
  {
   "cell_type": "code",
   "execution_count": 77,
   "id": "877a0fd5",
   "metadata": {},
   "outputs": [],
   "source": [
    "KF=KFold(5)\n"
   ]
  },
  {
   "cell_type": "code",
   "execution_count": 78,
   "id": "2549b9c8",
   "metadata": {},
   "outputs": [],
   "source": [
    "scores=cross_val_score(rfr,X_test,y_test)"
   ]
  },
  {
   "cell_type": "code",
   "execution_count": 79,
   "id": "8b44d9e7",
   "metadata": {},
   "outputs": [
    {
     "name": "stdout",
     "output_type": "stream",
     "text": [
      "0 0.9154795948952705\n",
      "1 0.827090039668761\n",
      "2 0.8941075212554678\n",
      "3 0.847271781758437\n",
      "4 0.8853497335612074\n"
     ]
    }
   ],
   "source": [
    "for idx,val in enumerate(scores):\n",
    "    print(idx,val)"
   ]
  },
  {
   "cell_type": "code",
   "execution_count": 80,
   "id": "c2d2d1ee",
   "metadata": {},
   "outputs": [
    {
     "data": {
      "text/plain": [
       "0.8738597342278286"
      ]
     },
     "execution_count": 80,
     "metadata": {},
     "output_type": "execute_result"
    }
   ],
   "source": [
    "scores.mean()"
   ]
  },
  {
   "cell_type": "markdown",
   "id": "83555f95",
   "metadata": {},
   "source": [
    "# KNeighborsRegressor"
   ]
  },
  {
   "cell_type": "code",
   "execution_count": 81,
   "id": "7caca941",
   "metadata": {},
   "outputs": [],
   "source": [
    "knr=KNeighborsRegressor()\n"
   ]
  },
  {
   "cell_type": "code",
   "execution_count": 82,
   "id": "ad46cfc0",
   "metadata": {},
   "outputs": [
    {
     "data": {
      "text/plain": [
       "KNeighborsRegressor()"
      ]
     },
     "execution_count": 82,
     "metadata": {},
     "output_type": "execute_result"
    }
   ],
   "source": [
    "knr.fit(X_train,y_train)"
   ]
  },
  {
   "cell_type": "code",
   "execution_count": 83,
   "id": "a5d4e8d7",
   "metadata": {},
   "outputs": [],
   "source": [
    "y_pred=knr.predict(X_train)\n"
   ]
  },
  {
   "cell_type": "code",
   "execution_count": 84,
   "id": "78b90f6b",
   "metadata": {},
   "outputs": [
    {
     "data": {
      "text/plain": [
       "array([109.44342927,  83.77617674, 121.23084981,  56.68665934,\n",
       "       164.59711424,  68.76043516,  78.49654491,  68.76043516,\n",
       "       157.06766758,  74.85657807,  81.11217181, 283.9499888 ,\n",
       "        74.12921086,  75.41701218,  62.53538818, 203.87871178,\n",
       "       288.80149404, 177.14024654, 296.91786826, 311.48260524,\n",
       "       110.86169728, 172.12322296, 288.30244296, 290.53641936,\n",
       "       184.1061321 , 196.51946854, 300.88601658, 114.23964827,\n",
       "       116.07909946, 118.289121  , 204.96040062, 111.17533567,\n",
       "       191.2539355 ,  80.67919182, 202.07399484,  68.50796489,\n",
       "       211.9003295 , 332.84224274, 124.31015515, 317.2737794 ,\n",
       "       170.05479772, 288.30244296, 194.64342606, 274.62210208,\n",
       "        55.85504253, 193.25315926,  88.99445865, 114.36897346,\n",
       "        73.98919111, 326.48333414, 216.49868448, 288.11555638,\n",
       "       194.74938716, 295.58216976, 200.28685846, 298.60503916,\n",
       "       196.51946854, 285.76706934, 109.91525821, 308.37584584,\n",
       "       194.28883004, 201.5511404 , 104.78428264,  74.12921086,\n",
       "       271.66294042,  57.13600072, 279.5215816 ,  83.45698215,\n",
       "       284.99595108, 113.41330534, 113.41330534, 273.90942232,\n",
       "       176.37937072, 186.57473184,  85.68455673, 170.05479772,\n",
       "        47.6083514 , 197.73860568, 317.2737794 ,  96.89167622,\n",
       "       203.17665934,  54.88125766,  94.06791709, 212.84317844,\n",
       "        94.53303114, 301.1630096 , 288.88339202, 286.08683896,\n",
       "       209.672047  , 284.96149646, 233.48929878, 186.85215898,\n",
       "       198.78744746,  66.45776932, 281.02062386, 279.15477566,\n",
       "        81.51892582, 311.48260524, 191.2539355 , 172.8900968 ,\n",
       "        83.90883984, 302.5875411 , 202.98315024,  54.88125766,\n",
       "       290.87676088,  81.11255107, 122.77904767, 176.37937072,\n",
       "       188.95496632, 287.07665472, 113.44070809, 226.563718  ,\n",
       "       208.72567006, 211.2708525 , 308.48842596,  96.89167622,\n",
       "        97.54902016, 293.5580853 , 113.63667146, 317.33608452,\n",
       "       124.70194696, 124.31015515, 301.90418098, 211.9003295 ,\n",
       "       272.42260712, 282.08169018, 211.9003295 ,  80.67919182,\n",
       "        97.54902016, 105.03301648, 330.22752118, 315.8946172 ,\n",
       "       185.92690102, 118.29632092, 309.2177792 , 111.17533567,\n",
       "       174.06874916,  69.39990141, 197.96239546, 199.0034099 ,\n",
       "        56.68665934, 218.53781854, 328.77313582,  42.26233945,\n",
       "        57.63614021, 306.66841352, 184.49881982, 226.61667144,\n",
       "        93.82405925, 164.49592366,  85.62767943,  85.68545309,\n",
       "       192.44918356, 216.2677116 , 161.88463002, 267.89602754,\n",
       "        91.20857756, 200.8093147 , 197.96239546, 318.26542736,\n",
       "       186.19265858, 193.49165226, 287.1620461 , 207.99942962,\n",
       "        70.5300529 , 191.09270522, 292.21371614, 310.48342214,\n",
       "       197.96239546, 154.10780198, 198.17163318,  67.48382579,\n",
       "       214.77061988, 283.55819538, 105.62384599, 104.70652605,\n",
       "       211.2708525 , 135.03832836, 194.74938716, 111.52014404,\n",
       "       212.84317844,  77.88663999, 171.58275674, 202.68060952,\n",
       "       255.71615768, 188.22292556,  71.53625908, 214.96484526,\n",
       "        87.41778036, 206.46446898, 277.63323764,  80.76301744,\n",
       "       279.07526   ,  65.84681361, 204.50822254, 158.99394952,\n",
       "       292.21371614, 104.78428264, 295.58216976, 324.36268582,\n",
       "       205.53689854, 207.46385214, 309.30818864, 111.17533567,\n",
       "       216.18304156, 198.65613514, 113.63667146, 297.26566906,\n",
       "        96.21344584, 320.85371874, 295.58216976,  70.1297471 ,\n",
       "       309.2177792 , 217.3438543 , 124.24484692, 110.6686115 ,\n",
       "        94.9189803 ,  73.98919111, 316.78061694, 304.81939656,\n",
       "       207.99942962, 180.62265786, 279.17821544, 236.95105324,\n",
       "       297.26566906, 188.99852976,  98.86331469, 284.96149646,\n",
       "       106.54497904, 197.73860568, 212.25116818, 268.20363138,\n",
       "        78.84849435, 287.09615892,  70.1297471 , 171.0885105 ,\n",
       "       314.93743198, 111.19001717, 294.95335898, 314.93743198,\n",
       "        81.51892582, 332.84224274, 283.44567176, 122.77904767,\n",
       "       184.1061321 ,  67.48382579,  91.72123679, 280.7229282 ,\n",
       "        61.66644   ,  74.12921086, 193.34013978, 172.12322296,\n",
       "       273.90942232, 310.44383982, 188.47573084, 186.17055394,\n",
       "       172.12322296, 200.26076624,  93.82405925,  82.74542196,\n",
       "       203.35565166, 187.06257258, 317.76169668,  44.46112526,\n",
       "        94.36097138, 290.99080242, 309.2177792 , 195.95619146,\n",
       "        76.74875377,  77.80239772, 317.76169668, 290.53641936,\n",
       "       116.89499136, 126.98914224, 196.91982058, 172.8900968 ,\n",
       "       122.77904767,  64.91388783, 114.36897346, 202.07399484,\n",
       "       222.59053838, 212.1964532 , 104.98459068, 224.36070174,\n",
       "       283.99168648,  44.46112526, 293.89658766, 209.5499525 ,\n",
       "        80.67919182, 295.23481554, 190.48251068, 319.68404294,\n",
       "       167.01088196, 283.8839031 ,  89.94489657,  68.76043516,\n",
       "       207.41617828, 200.8093147 ,  88.71662574, 301.1630096 ,\n",
       "       232.0330472 , 216.49868448, 281.02062386, 199.7173888 ,\n",
       "       224.36070174, 192.31594322,  68.11780801,  81.11255107,\n",
       "       175.43595734,  48.11972361, 160.91924676, 118.29632092,\n",
       "       114.36897346, 295.23481554, 109.91525821, 110.6686115 ,\n",
       "       212.88707808, 288.43774834, 202.94825146,  78.97463692,\n",
       "       277.25783628, 273.90942232,  97.54902016, 299.34543434,\n",
       "       316.15555956, 222.0157778 , 113.41330534,  90.436032  ,\n",
       "       314.93743198, 288.30244296, 206.94028426, 225.2706228 ,\n",
       "       207.72288552, 203.66107906, 172.12322296, 181.36507184,\n",
       "       172.8900968 , 208.88634078,  54.88125766, 320.57126184,\n",
       "        76.45140085, 169.0065163 ,  53.50609572, 316.63600108,\n",
       "       122.87151136, 181.91090482, 165.24743838, 296.91786826,\n",
       "        68.11780801, 170.05479772, 101.41480672, 204.57493322,\n",
       "        79.70758158, 104.78428264, 273.90942232, 216.18304156,\n",
       "       295.58216976, 309.81660124, 112.05262927, 301.1630096 ,\n",
       "        86.55283103, 324.37313086, 195.61534516, 302.739544  ,\n",
       "       294.60279682,  45.59000258, 284.96149646, 118.29632092,\n",
       "        94.36097138,  95.6597304 ,  84.98902267, 199.01975786,\n",
       "       287.09615892, 194.19991174, 172.9036233 , 171.0885105 ,\n",
       "       323.55861744,  56.29429   , 188.31125168, 101.96365232,\n",
       "        91.26834302, 317.2737794 , 289.91561602, 211.2708525 ,\n",
       "       204.59658832, 211.26360686,  97.71792178,  95.6597304 ,\n",
       "       213.6305525 , 113.41330534, 179.36896222,  91.30636382,\n",
       "       286.3331603 ,  86.12642267, 222.29017546, 170.05479772,\n",
       "       231.19932216, 195.72920204, 246.51414414, 193.46556534,\n",
       "       188.52838238, 102.26518713, 288.30244296, 290.99080242,\n",
       "       156.89232888, 122.77904767, 307.24143216, 306.66841352,\n",
       "       312.74342632, 186.65491116,  94.36097138, 205.53689854,\n",
       "        69.48595153, 179.31877888, 323.55861744, 104.78428264,\n",
       "       197.73860568, 114.36897346, 306.66841352, 166.07700296,\n",
       "       194.17475232,  74.85657807,  87.41778036,  97.58600442,\n",
       "        92.56323678, 294.60279682, 270.83535636, 202.27075728,\n",
       "       114.36897346,  73.98919111, 189.0841064 , 292.17433404,\n",
       "       215.63547186, 211.2708525 , 110.86169728, 168.67151592,\n",
       "       269.8231421 , 203.89351134, 191.25830398, 296.29174268,\n",
       "       309.2177792 , 173.11461914, 257.6870292 ,  66.45776932,\n",
       "       192.7269012 , 199.23446834, 121.03568906, 202.66478176,\n",
       "       314.15783822,  81.39244274, 194.67043106])"
      ]
     },
     "execution_count": 84,
     "metadata": {},
     "output_type": "execute_result"
    }
   ],
   "source": [
    "y_pred"
   ]
  },
  {
   "cell_type": "code",
   "execution_count": 85,
   "id": "e4b2db4e",
   "metadata": {},
   "outputs": [
    {
     "data": {
      "text/plain": [
       "0.9142570041391187"
      ]
     },
     "execution_count": 85,
     "metadata": {},
     "output_type": "execute_result"
    }
   ],
   "source": [
    "r2_score(y_train,y_pred)"
   ]
  },
  {
   "cell_type": "code",
   "execution_count": 86,
   "id": "ad8dcc0b",
   "metadata": {},
   "outputs": [],
   "source": [
    "y_pred=knr.predict(X_test)\n"
   ]
  },
  {
   "cell_type": "code",
   "execution_count": 87,
   "id": "915d3985",
   "metadata": {},
   "outputs": [
    {
     "data": {
      "text/plain": [
       "0.8797048151512763"
      ]
     },
     "execution_count": 87,
     "metadata": {},
     "output_type": "execute_result"
    }
   ],
   "source": [
    "r2_score(y_test,y_pred)"
   ]
  },
  {
   "cell_type": "code",
   "execution_count": 88,
   "id": "e6516dff",
   "metadata": {},
   "outputs": [],
   "source": [
    "KF=KFold(5)\n"
   ]
  },
  {
   "cell_type": "code",
   "execution_count": 89,
   "id": "8afde122",
   "metadata": {},
   "outputs": [],
   "source": [
    "scores=cross_val_score(knr,X_test,y_test)"
   ]
  },
  {
   "cell_type": "code",
   "execution_count": 90,
   "id": "ee89e4c8",
   "metadata": {},
   "outputs": [
    {
     "name": "stdout",
     "output_type": "stream",
     "text": [
      "0 0.884042659129814\n",
      "1 0.748551491003487\n",
      "2 0.8468164669303366\n",
      "3 0.902492435125718\n",
      "4 0.8301431678105172\n"
     ]
    }
   ],
   "source": [
    "for idx,val in enumerate(scores):\n",
    "    print(idx,val)"
   ]
  },
  {
   "cell_type": "code",
   "execution_count": 91,
   "id": "4704d2a5",
   "metadata": {},
   "outputs": [
    {
     "data": {
      "text/plain": [
       "0.8424092439999745"
      ]
     },
     "execution_count": 91,
     "metadata": {},
     "output_type": "execute_result"
    }
   ],
   "source": [
    "scores.mean()"
   ]
  },
  {
   "cell_type": "markdown",
   "id": "e806e891",
   "metadata": {},
   "source": [
    "# XGBRegressor"
   ]
  },
  {
   "cell_type": "code",
   "execution_count": 92,
   "id": "a094aa15",
   "metadata": {},
   "outputs": [],
   "source": [
    "xgb_i=xgb.XGBRegressor()"
   ]
  },
  {
   "cell_type": "code",
   "execution_count": 93,
   "id": "297731b6",
   "metadata": {},
   "outputs": [],
   "source": [
    "xgb_i=KNeighborsRegressor()\n"
   ]
  },
  {
   "cell_type": "code",
   "execution_count": 94,
   "id": "4e3c591a",
   "metadata": {},
   "outputs": [
    {
     "data": {
      "text/plain": [
       "KNeighborsRegressor()"
      ]
     },
     "execution_count": 94,
     "metadata": {},
     "output_type": "execute_result"
    }
   ],
   "source": [
    "xgb_i.fit(X_train,y_train)"
   ]
  },
  {
   "cell_type": "code",
   "execution_count": 95,
   "id": "eb60e520",
   "metadata": {},
   "outputs": [],
   "source": [
    "y_pred=xgb_i.predict(X_train)\n"
   ]
  },
  {
   "cell_type": "code",
   "execution_count": 96,
   "id": "cde16ead",
   "metadata": {},
   "outputs": [
    {
     "data": {
      "text/plain": [
       "array([109.44342927,  83.77617674, 121.23084981,  56.68665934,\n",
       "       164.59711424,  68.76043516,  78.49654491,  68.76043516,\n",
       "       157.06766758,  74.85657807,  81.11217181, 283.9499888 ,\n",
       "        74.12921086,  75.41701218,  62.53538818, 203.87871178,\n",
       "       288.80149404, 177.14024654, 296.91786826, 311.48260524,\n",
       "       110.86169728, 172.12322296, 288.30244296, 290.53641936,\n",
       "       184.1061321 , 196.51946854, 300.88601658, 114.23964827,\n",
       "       116.07909946, 118.289121  , 204.96040062, 111.17533567,\n",
       "       191.2539355 ,  80.67919182, 202.07399484,  68.50796489,\n",
       "       211.9003295 , 332.84224274, 124.31015515, 317.2737794 ,\n",
       "       170.05479772, 288.30244296, 194.64342606, 274.62210208,\n",
       "        55.85504253, 193.25315926,  88.99445865, 114.36897346,\n",
       "        73.98919111, 326.48333414, 216.49868448, 288.11555638,\n",
       "       194.74938716, 295.58216976, 200.28685846, 298.60503916,\n",
       "       196.51946854, 285.76706934, 109.91525821, 308.37584584,\n",
       "       194.28883004, 201.5511404 , 104.78428264,  74.12921086,\n",
       "       271.66294042,  57.13600072, 279.5215816 ,  83.45698215,\n",
       "       284.99595108, 113.41330534, 113.41330534, 273.90942232,\n",
       "       176.37937072, 186.57473184,  85.68455673, 170.05479772,\n",
       "        47.6083514 , 197.73860568, 317.2737794 ,  96.89167622,\n",
       "       203.17665934,  54.88125766,  94.06791709, 212.84317844,\n",
       "        94.53303114, 301.1630096 , 288.88339202, 286.08683896,\n",
       "       209.672047  , 284.96149646, 233.48929878, 186.85215898,\n",
       "       198.78744746,  66.45776932, 281.02062386, 279.15477566,\n",
       "        81.51892582, 311.48260524, 191.2539355 , 172.8900968 ,\n",
       "        83.90883984, 302.5875411 , 202.98315024,  54.88125766,\n",
       "       290.87676088,  81.11255107, 122.77904767, 176.37937072,\n",
       "       188.95496632, 287.07665472, 113.44070809, 226.563718  ,\n",
       "       208.72567006, 211.2708525 , 308.48842596,  96.89167622,\n",
       "        97.54902016, 293.5580853 , 113.63667146, 317.33608452,\n",
       "       124.70194696, 124.31015515, 301.90418098, 211.9003295 ,\n",
       "       272.42260712, 282.08169018, 211.9003295 ,  80.67919182,\n",
       "        97.54902016, 105.03301648, 330.22752118, 315.8946172 ,\n",
       "       185.92690102, 118.29632092, 309.2177792 , 111.17533567,\n",
       "       174.06874916,  69.39990141, 197.96239546, 199.0034099 ,\n",
       "        56.68665934, 218.53781854, 328.77313582,  42.26233945,\n",
       "        57.63614021, 306.66841352, 184.49881982, 226.61667144,\n",
       "        93.82405925, 164.49592366,  85.62767943,  85.68545309,\n",
       "       192.44918356, 216.2677116 , 161.88463002, 267.89602754,\n",
       "        91.20857756, 200.8093147 , 197.96239546, 318.26542736,\n",
       "       186.19265858, 193.49165226, 287.1620461 , 207.99942962,\n",
       "        70.5300529 , 191.09270522, 292.21371614, 310.48342214,\n",
       "       197.96239546, 154.10780198, 198.17163318,  67.48382579,\n",
       "       214.77061988, 283.55819538, 105.62384599, 104.70652605,\n",
       "       211.2708525 , 135.03832836, 194.74938716, 111.52014404,\n",
       "       212.84317844,  77.88663999, 171.58275674, 202.68060952,\n",
       "       255.71615768, 188.22292556,  71.53625908, 214.96484526,\n",
       "        87.41778036, 206.46446898, 277.63323764,  80.76301744,\n",
       "       279.07526   ,  65.84681361, 204.50822254, 158.99394952,\n",
       "       292.21371614, 104.78428264, 295.58216976, 324.36268582,\n",
       "       205.53689854, 207.46385214, 309.30818864, 111.17533567,\n",
       "       216.18304156, 198.65613514, 113.63667146, 297.26566906,\n",
       "        96.21344584, 320.85371874, 295.58216976,  70.1297471 ,\n",
       "       309.2177792 , 217.3438543 , 124.24484692, 110.6686115 ,\n",
       "        94.9189803 ,  73.98919111, 316.78061694, 304.81939656,\n",
       "       207.99942962, 180.62265786, 279.17821544, 236.95105324,\n",
       "       297.26566906, 188.99852976,  98.86331469, 284.96149646,\n",
       "       106.54497904, 197.73860568, 212.25116818, 268.20363138,\n",
       "        78.84849435, 287.09615892,  70.1297471 , 171.0885105 ,\n",
       "       314.93743198, 111.19001717, 294.95335898, 314.93743198,\n",
       "        81.51892582, 332.84224274, 283.44567176, 122.77904767,\n",
       "       184.1061321 ,  67.48382579,  91.72123679, 280.7229282 ,\n",
       "        61.66644   ,  74.12921086, 193.34013978, 172.12322296,\n",
       "       273.90942232, 310.44383982, 188.47573084, 186.17055394,\n",
       "       172.12322296, 200.26076624,  93.82405925,  82.74542196,\n",
       "       203.35565166, 187.06257258, 317.76169668,  44.46112526,\n",
       "        94.36097138, 290.99080242, 309.2177792 , 195.95619146,\n",
       "        76.74875377,  77.80239772, 317.76169668, 290.53641936,\n",
       "       116.89499136, 126.98914224, 196.91982058, 172.8900968 ,\n",
       "       122.77904767,  64.91388783, 114.36897346, 202.07399484,\n",
       "       222.59053838, 212.1964532 , 104.98459068, 224.36070174,\n",
       "       283.99168648,  44.46112526, 293.89658766, 209.5499525 ,\n",
       "        80.67919182, 295.23481554, 190.48251068, 319.68404294,\n",
       "       167.01088196, 283.8839031 ,  89.94489657,  68.76043516,\n",
       "       207.41617828, 200.8093147 ,  88.71662574, 301.1630096 ,\n",
       "       232.0330472 , 216.49868448, 281.02062386, 199.7173888 ,\n",
       "       224.36070174, 192.31594322,  68.11780801,  81.11255107,\n",
       "       175.43595734,  48.11972361, 160.91924676, 118.29632092,\n",
       "       114.36897346, 295.23481554, 109.91525821, 110.6686115 ,\n",
       "       212.88707808, 288.43774834, 202.94825146,  78.97463692,\n",
       "       277.25783628, 273.90942232,  97.54902016, 299.34543434,\n",
       "       316.15555956, 222.0157778 , 113.41330534,  90.436032  ,\n",
       "       314.93743198, 288.30244296, 206.94028426, 225.2706228 ,\n",
       "       207.72288552, 203.66107906, 172.12322296, 181.36507184,\n",
       "       172.8900968 , 208.88634078,  54.88125766, 320.57126184,\n",
       "        76.45140085, 169.0065163 ,  53.50609572, 316.63600108,\n",
       "       122.87151136, 181.91090482, 165.24743838, 296.91786826,\n",
       "        68.11780801, 170.05479772, 101.41480672, 204.57493322,\n",
       "        79.70758158, 104.78428264, 273.90942232, 216.18304156,\n",
       "       295.58216976, 309.81660124, 112.05262927, 301.1630096 ,\n",
       "        86.55283103, 324.37313086, 195.61534516, 302.739544  ,\n",
       "       294.60279682,  45.59000258, 284.96149646, 118.29632092,\n",
       "        94.36097138,  95.6597304 ,  84.98902267, 199.01975786,\n",
       "       287.09615892, 194.19991174, 172.9036233 , 171.0885105 ,\n",
       "       323.55861744,  56.29429   , 188.31125168, 101.96365232,\n",
       "        91.26834302, 317.2737794 , 289.91561602, 211.2708525 ,\n",
       "       204.59658832, 211.26360686,  97.71792178,  95.6597304 ,\n",
       "       213.6305525 , 113.41330534, 179.36896222,  91.30636382,\n",
       "       286.3331603 ,  86.12642267, 222.29017546, 170.05479772,\n",
       "       231.19932216, 195.72920204, 246.51414414, 193.46556534,\n",
       "       188.52838238, 102.26518713, 288.30244296, 290.99080242,\n",
       "       156.89232888, 122.77904767, 307.24143216, 306.66841352,\n",
       "       312.74342632, 186.65491116,  94.36097138, 205.53689854,\n",
       "        69.48595153, 179.31877888, 323.55861744, 104.78428264,\n",
       "       197.73860568, 114.36897346, 306.66841352, 166.07700296,\n",
       "       194.17475232,  74.85657807,  87.41778036,  97.58600442,\n",
       "        92.56323678, 294.60279682, 270.83535636, 202.27075728,\n",
       "       114.36897346,  73.98919111, 189.0841064 , 292.17433404,\n",
       "       215.63547186, 211.2708525 , 110.86169728, 168.67151592,\n",
       "       269.8231421 , 203.89351134, 191.25830398, 296.29174268,\n",
       "       309.2177792 , 173.11461914, 257.6870292 ,  66.45776932,\n",
       "       192.7269012 , 199.23446834, 121.03568906, 202.66478176,\n",
       "       314.15783822,  81.39244274, 194.67043106])"
      ]
     },
     "execution_count": 96,
     "metadata": {},
     "output_type": "execute_result"
    }
   ],
   "source": [
    "y_pred"
   ]
  },
  {
   "cell_type": "code",
   "execution_count": 97,
   "id": "68d2ed1e",
   "metadata": {},
   "outputs": [
    {
     "data": {
      "text/plain": [
       "0.9142570041391187"
      ]
     },
     "execution_count": 97,
     "metadata": {},
     "output_type": "execute_result"
    }
   ],
   "source": [
    "r2_score(y_train,y_pred)"
   ]
  },
  {
   "cell_type": "code",
   "execution_count": 98,
   "id": "6964c185",
   "metadata": {},
   "outputs": [],
   "source": [
    "y_pred=xgb_i.predict(X_test)\n"
   ]
  },
  {
   "cell_type": "code",
   "execution_count": 99,
   "id": "811a6565",
   "metadata": {},
   "outputs": [
    {
     "data": {
      "text/plain": [
       "0.8797048151512763"
      ]
     },
     "execution_count": 99,
     "metadata": {},
     "output_type": "execute_result"
    }
   ],
   "source": [
    "r2_score(y_test,y_pred)"
   ]
  },
  {
   "cell_type": "code",
   "execution_count": 100,
   "id": "4f53c2c5",
   "metadata": {},
   "outputs": [],
   "source": [
    "KF=KFold(5)\n"
   ]
  },
  {
   "cell_type": "code",
   "execution_count": 101,
   "id": "28738cb1",
   "metadata": {},
   "outputs": [],
   "source": [
    "scores=cross_val_score(xgb_i,X_test,y_test)"
   ]
  },
  {
   "cell_type": "code",
   "execution_count": 102,
   "id": "04afaf4f",
   "metadata": {},
   "outputs": [
    {
     "name": "stdout",
     "output_type": "stream",
     "text": [
      "0 0.884042659129814\n",
      "1 0.748551491003487\n",
      "2 0.8468164669303366\n",
      "3 0.902492435125718\n",
      "4 0.8301431678105172\n"
     ]
    }
   ],
   "source": [
    "for idx,val in enumerate(scores):\n",
    "    print(idx,val)"
   ]
  },
  {
   "cell_type": "code",
   "execution_count": 103,
   "id": "7191f696",
   "metadata": {},
   "outputs": [
    {
     "data": {
      "text/plain": [
       "0.8424092439999745"
      ]
     },
     "execution_count": 103,
     "metadata": {},
     "output_type": "execute_result"
    }
   ],
   "source": [
    "scores.mean()"
   ]
  },
  {
   "cell_type": "code",
   "execution_count": 104,
   "id": "ceb516c4",
   "metadata": {},
   "outputs": [],
   "source": [
    "model=keras.Sequential([\n",
    "    keras.layers.Dense(15,input_shape=(4,),activation=\"relu\"),\n",
    "    keras.layers.Dense(15,activation=\"relu\"),\n",
    "    keras.layers.Dense(1,activation=\"linear\")\n",
    "])"
   ]
  },
  {
   "cell_type": "code",
   "execution_count": 105,
   "id": "93fd1f37",
   "metadata": {},
   "outputs": [],
   "source": [
    "model.compile(optimizer='adam',\n",
    "    loss=\"mse\")"
   ]
  },
  {
   "cell_type": "code",
   "execution_count": 106,
   "id": "396d74ee",
   "metadata": {},
   "outputs": [
    {
     "name": "stdout",
     "output_type": "stream",
     "text": [
      "Model: \"sequential\"\n",
      "_________________________________________________________________\n",
      " Layer (type)                Output Shape              Param #   \n",
      "=================================================================\n",
      " dense (Dense)               (None, 15)                75        \n",
      "                                                                 \n",
      " dense_1 (Dense)             (None, 15)                240       \n",
      "                                                                 \n",
      " dense_2 (Dense)             (None, 1)                 16        \n",
      "                                                                 \n",
      "=================================================================\n",
      "Total params: 331\n",
      "Trainable params: 331\n",
      "Non-trainable params: 0\n",
      "_________________________________________________________________\n"
     ]
    }
   ],
   "source": [
    "model.summary()"
   ]
  },
  {
   "cell_type": "code",
   "execution_count": 107,
   "id": "ddff2c47",
   "metadata": {},
   "outputs": [
    {
     "name": "stdout",
     "output_type": "stream",
     "text": [
      "Epoch 1/100\n",
      "12/12 [==============================] - 1s 20ms/step - loss: 42189.3789 - val_loss: 44191.4219\n",
      "Epoch 2/100\n",
      "12/12 [==============================] - 0s 5ms/step - loss: 42115.2695 - val_loss: 44110.2695\n",
      "Epoch 3/100\n",
      "12/12 [==============================] - 0s 4ms/step - loss: 42035.8906 - val_loss: 44026.3477\n",
      "Epoch 4/100\n",
      "12/12 [==============================] - 0s 4ms/step - loss: 41951.2305 - val_loss: 43929.5039\n",
      "Epoch 5/100\n",
      "12/12 [==============================] - 0s 4ms/step - loss: 41851.8984 - val_loss: 43818.0898\n",
      "Epoch 6/100\n",
      "12/12 [==============================] - 0s 4ms/step - loss: 41735.2852 - val_loss: 43684.9492\n",
      "Epoch 7/100\n",
      "12/12 [==============================] - 0s 5ms/step - loss: 41596.4570 - val_loss: 43519.6094\n",
      "Epoch 8/100\n",
      "12/12 [==============================] - 0s 4ms/step - loss: 41421.9180 - val_loss: 43319.3125\n",
      "Epoch 9/100\n",
      "12/12 [==============================] - 0s 4ms/step - loss: 41208.1602 - val_loss: 43072.8398\n",
      "Epoch 10/100\n",
      "12/12 [==============================] - 0s 4ms/step - loss: 40953.2891 - val_loss: 42782.1602\n",
      "Epoch 11/100\n",
      "12/12 [==============================] - 0s 5ms/step - loss: 40646.7812 - val_loss: 42441.8008\n",
      "Epoch 12/100\n",
      "12/12 [==============================] - 0s 5ms/step - loss: 40296.3086 - val_loss: 42042.3672\n",
      "Epoch 13/100\n",
      "12/12 [==============================] - 0s 4ms/step - loss: 39889.6172 - val_loss: 41589.4141\n",
      "Epoch 14/100\n",
      "12/12 [==============================] - 0s 5ms/step - loss: 39430.0352 - val_loss: 41083.5820\n",
      "Epoch 15/100\n",
      "12/12 [==============================] - 0s 4ms/step - loss: 38908.2539 - val_loss: 40522.0625\n",
      "Epoch 16/100\n",
      "12/12 [==============================] - 0s 4ms/step - loss: 38349.6992 - val_loss: 39867.3555\n",
      "Epoch 17/100\n",
      "12/12 [==============================] - 0s 6ms/step - loss: 37686.9805 - val_loss: 39161.1914\n",
      "Epoch 18/100\n",
      "12/12 [==============================] - 0s 5ms/step - loss: 36964.4297 - val_loss: 38364.1523\n",
      "Epoch 19/100\n",
      "12/12 [==============================] - 0s 4ms/step - loss: 36165.6211 - val_loss: 37475.1406\n",
      "Epoch 20/100\n",
      "12/12 [==============================] - 0s 4ms/step - loss: 35266.8516 - val_loss: 36512.3555\n",
      "Epoch 21/100\n",
      "12/12 [==============================] - 0s 4ms/step - loss: 34294.3945 - val_loss: 35461.1484\n",
      "Epoch 22/100\n",
      "12/12 [==============================] - 0s 5ms/step - loss: 33260.0898 - val_loss: 34303.1602\n",
      "Epoch 23/100\n",
      "12/12 [==============================] - 0s 4ms/step - loss: 32132.5547 - val_loss: 33122.8125\n",
      "Epoch 24/100\n",
      "12/12 [==============================] - 0s 6ms/step - loss: 30967.7383 - val_loss: 31858.7656\n",
      "Epoch 25/100\n",
      "12/12 [==============================] - 0s 5ms/step - loss: 29727.8926 - val_loss: 30510.0938\n",
      "Epoch 26/100\n",
      "12/12 [==============================] - 0s 7ms/step - loss: 28402.2676 - val_loss: 29139.1816\n",
      "Epoch 27/100\n",
      "12/12 [==============================] - 0s 4ms/step - loss: 27033.7695 - val_loss: 27668.4941\n",
      "Epoch 28/100\n",
      "12/12 [==============================] - 0s 4ms/step - loss: 25594.7969 - val_loss: 26103.9727\n",
      "Epoch 29/100\n",
      "12/12 [==============================] - 0s 4ms/step - loss: 24103.8223 - val_loss: 24554.2422\n",
      "Epoch 30/100\n",
      "12/12 [==============================] - 0s 5ms/step - loss: 22602.5156 - val_loss: 23003.3438\n",
      "Epoch 31/100\n",
      "12/12 [==============================] - 0s 5ms/step - loss: 21147.0078 - val_loss: 21377.2148\n",
      "Epoch 32/100\n",
      "12/12 [==============================] - 0s 8ms/step - loss: 19601.8301 - val_loss: 19786.1504\n",
      "Epoch 33/100\n",
      "12/12 [==============================] - 0s 5ms/step - loss: 18082.9180 - val_loss: 18244.7383\n",
      "Epoch 34/100\n",
      "12/12 [==============================] - 0s 5ms/step - loss: 16655.9805 - val_loss: 16727.2500\n",
      "Epoch 35/100\n",
      "12/12 [==============================] - 0s 5ms/step - loss: 15200.2969 - val_loss: 15292.2070\n",
      "Epoch 36/100\n",
      "12/12 [==============================] - 0s 5ms/step - loss: 13872.1045 - val_loss: 13836.9805\n",
      "Epoch 37/100\n",
      "12/12 [==============================] - 0s 4ms/step - loss: 12552.0527 - val_loss: 12499.9922\n",
      "Epoch 38/100\n",
      "12/12 [==============================] - 0s 4ms/step - loss: 11323.1514 - val_loss: 11294.0303\n",
      "Epoch 39/100\n",
      "12/12 [==============================] - 0s 7ms/step - loss: 10217.7949 - val_loss: 10147.9883\n",
      "Epoch 40/100\n",
      "12/12 [==============================] - 0s 4ms/step - loss: 9178.7051 - val_loss: 9103.5664\n",
      "Epoch 41/100\n",
      "12/12 [==============================] - 0s 4ms/step - loss: 8240.1807 - val_loss: 8149.2705\n",
      "Epoch 42/100\n",
      "12/12 [==============================] - 0s 4ms/step - loss: 7395.9370 - val_loss: 7314.0332\n",
      "Epoch 43/100\n",
      "12/12 [==============================] - 0s 5ms/step - loss: 6657.1074 - val_loss: 6568.7603\n",
      "Epoch 44/100\n",
      "12/12 [==============================] - 0s 4ms/step - loss: 5983.1943 - val_loss: 5919.1841\n",
      "Epoch 45/100\n",
      "12/12 [==============================] - 0s 4ms/step - loss: 5406.3594 - val_loss: 5363.8628\n",
      "Epoch 46/100\n",
      "12/12 [==============================] - 0s 6ms/step - loss: 4915.3599 - val_loss: 4883.6729\n",
      "Epoch 47/100\n",
      "12/12 [==============================] - 0s 6ms/step - loss: 4495.2192 - val_loss: 4476.4180\n",
      "Epoch 48/100\n",
      "12/12 [==============================] - 0s 6ms/step - loss: 4135.3823 - val_loss: 4137.1836\n",
      "Epoch 49/100\n",
      "12/12 [==============================] - 0s 5ms/step - loss: 3835.0476 - val_loss: 3843.3301\n",
      "Epoch 50/100\n",
      "12/12 [==============================] - 0s 5ms/step - loss: 3578.4263 - val_loss: 3608.5364\n",
      "Epoch 51/100\n",
      "12/12 [==============================] - 0s 4ms/step - loss: 3361.8452 - val_loss: 3407.3511\n",
      "Epoch 52/100\n",
      "12/12 [==============================] - 0s 4ms/step - loss: 3184.6875 - val_loss: 3238.2349\n",
      "Epoch 53/100\n",
      "12/12 [==============================] - 0s 6ms/step - loss: 3034.4070 - val_loss: 3102.8718\n",
      "Epoch 54/100\n",
      "12/12 [==============================] - 0s 6ms/step - loss: 2904.8948 - val_loss: 2986.5056\n",
      "Epoch 55/100\n",
      "12/12 [==============================] - 0s 6ms/step - loss: 2798.7622 - val_loss: 2882.1797\n",
      "Epoch 56/100\n",
      "12/12 [==============================] - 0s 4ms/step - loss: 2698.9380 - val_loss: 2799.2397\n",
      "Epoch 57/100\n",
      "12/12 [==============================] - 0s 4ms/step - loss: 2611.6016 - val_loss: 2720.2383\n",
      "Epoch 58/100\n",
      "12/12 [==============================] - 0s 4ms/step - loss: 2532.6848 - val_loss: 2653.2512\n",
      "Epoch 59/100\n",
      "12/12 [==============================] - 0s 6ms/step - loss: 2464.5391 - val_loss: 2589.4707\n",
      "Epoch 60/100\n",
      "12/12 [==============================] - 0s 7ms/step - loss: 2395.2058 - val_loss: 2536.4893\n",
      "Epoch 61/100\n",
      "12/12 [==============================] - 0s 5ms/step - loss: 2333.0278 - val_loss: 2481.1335\n",
      "Epoch 62/100\n",
      "12/12 [==============================] - 0s 5ms/step - loss: 2274.9546 - val_loss: 2428.6047\n",
      "Epoch 63/100\n",
      "12/12 [==============================] - 0s 5ms/step - loss: 2221.8459 - val_loss: 2380.4373\n",
      "Epoch 64/100\n",
      "12/12 [==============================] - 0s 7ms/step - loss: 2171.5796 - val_loss: 2337.1575\n",
      "Epoch 65/100\n",
      "12/12 [==============================] - 0s 4ms/step - loss: 2125.0508 - val_loss: 2296.4209\n",
      "Epoch 66/100\n",
      "12/12 [==============================] - 0s 7ms/step - loss: 2078.8215 - val_loss: 2256.4868\n",
      "Epoch 67/100\n",
      "12/12 [==============================] - 0s 4ms/step - loss: 2036.4894 - val_loss: 2215.6606\n",
      "Epoch 68/100\n",
      "12/12 [==============================] - 0s 6ms/step - loss: 1996.5674 - val_loss: 2176.8989\n",
      "Epoch 69/100\n",
      "12/12 [==============================] - 0s 4ms/step - loss: 1956.5601 - val_loss: 2143.9397\n",
      "Epoch 70/100\n",
      "12/12 [==============================] - 0s 7ms/step - loss: 1919.7505 - val_loss: 2108.8784\n",
      "Epoch 71/100\n",
      "12/12 [==============================] - 0s 4ms/step - loss: 1884.4186 - val_loss: 2075.6172\n",
      "Epoch 72/100\n",
      "12/12 [==============================] - 0s 6ms/step - loss: 1848.9199 - val_loss: 2044.7941\n",
      "Epoch 73/100\n",
      "12/12 [==============================] - 0s 4ms/step - loss: 1817.0013 - val_loss: 2014.8179\n",
      "Epoch 74/100\n",
      "12/12 [==============================] - 0s 4ms/step - loss: 1786.7302 - val_loss: 1988.2052\n",
      "Epoch 75/100\n",
      "12/12 [==============================] - 0s 4ms/step - loss: 1757.2286 - val_loss: 1962.9667\n",
      "Epoch 76/100\n",
      "12/12 [==============================] - 0s 4ms/step - loss: 1730.9108 - val_loss: 1939.8695\n",
      "Epoch 77/100\n",
      "12/12 [==============================] - 0s 6ms/step - loss: 1705.2865 - val_loss: 1915.6583\n",
      "Epoch 78/100\n",
      "12/12 [==============================] - 0s 5ms/step - loss: 1678.6727 - val_loss: 1893.0181\n",
      "Epoch 79/100\n",
      "12/12 [==============================] - 0s 4ms/step - loss: 1654.8309 - val_loss: 1868.3838\n",
      "Epoch 80/100\n",
      "12/12 [==============================] - 0s 5ms/step - loss: 1632.4121 - val_loss: 1846.7847\n",
      "Epoch 81/100\n",
      "12/12 [==============================] - 0s 5ms/step - loss: 1608.7799 - val_loss: 1821.7767\n",
      "Epoch 82/100\n",
      "12/12 [==============================] - 0s 4ms/step - loss: 1587.9978 - val_loss: 1804.1107\n",
      "Epoch 83/100\n",
      "12/12 [==============================] - 0s 4ms/step - loss: 1568.0786 - val_loss: 1787.3544\n",
      "Epoch 84/100\n",
      "12/12 [==============================] - 0s 7ms/step - loss: 1548.5740 - val_loss: 1772.4047\n",
      "Epoch 85/100\n",
      "12/12 [==============================] - 0s 7ms/step - loss: 1530.1144 - val_loss: 1755.8956\n",
      "Epoch 86/100\n",
      "12/12 [==============================] - 0s 5ms/step - loss: 1512.6805 - val_loss: 1737.8998\n",
      "Epoch 87/100\n",
      "12/12 [==============================] - 0s 4ms/step - loss: 1496.4604 - val_loss: 1720.4600\n",
      "Epoch 88/100\n",
      "12/12 [==============================] - 0s 4ms/step - loss: 1479.4169 - val_loss: 1703.1724\n",
      "Epoch 89/100\n",
      "12/12 [==============================] - 0s 4ms/step - loss: 1463.3210 - val_loss: 1688.7560\n",
      "Epoch 90/100\n",
      "12/12 [==============================] - 0s 6ms/step - loss: 1448.0284 - val_loss: 1672.4845\n",
      "Epoch 91/100\n",
      "12/12 [==============================] - 0s 5ms/step - loss: 1433.1636 - val_loss: 1658.6654\n",
      "Epoch 92/100\n",
      "12/12 [==============================] - 0s 4ms/step - loss: 1419.1406 - val_loss: 1649.4279\n",
      "Epoch 93/100\n",
      "12/12 [==============================] - 0s 4ms/step - loss: 1405.1921 - val_loss: 1637.7913\n",
      "Epoch 94/100\n",
      "12/12 [==============================] - 0s 4ms/step - loss: 1392.6738 - val_loss: 1626.3534\n",
      "Epoch 95/100\n",
      "12/12 [==============================] - 0s 4ms/step - loss: 1380.9968 - val_loss: 1610.3822\n",
      "Epoch 96/100\n",
      "12/12 [==============================] - 0s 4ms/step - loss: 1368.1200 - val_loss: 1598.2748\n",
      "Epoch 97/100\n",
      "12/12 [==============================] - 0s 4ms/step - loss: 1356.0369 - val_loss: 1583.3242\n",
      "Epoch 98/100\n",
      "12/12 [==============================] - 0s 5ms/step - loss: 1344.5339 - val_loss: 1572.3320\n",
      "Epoch 99/100\n",
      "12/12 [==============================] - 0s 5ms/step - loss: 1333.1978 - val_loss: 1562.3521\n",
      "Epoch 100/100\n",
      "12/12 [==============================] - 0s 5ms/step - loss: 1322.4220 - val_loss: 1550.1346\n"
     ]
    }
   ],
   "source": [
    "history=model.fit(X_train,y_train,epochs=100,validation_split=0.2)"
   ]
  },
  {
   "cell_type": "code",
   "execution_count": 108,
   "id": "ec52c79a",
   "metadata": {},
   "outputs": [
    {
     "name": "stdout",
     "output_type": "stream",
     "text": [
      "4/4 [==============================] - 0s 3ms/step\n"
     ]
    }
   ],
   "source": [
    "y_pred=model.predict(X_test)"
   ]
  },
  {
   "cell_type": "code",
   "execution_count": 109,
   "id": "0313625d",
   "metadata": {},
   "outputs": [
    {
     "data": {
      "text/plain": [
       "0.814321183793265"
      ]
     },
     "execution_count": 109,
     "metadata": {},
     "output_type": "execute_result"
    }
   ],
   "source": [
    "r2_score(y_test,y_pred)"
   ]
  },
  {
   "cell_type": "code",
   "execution_count": 110,
   "id": "1681b30d",
   "metadata": {},
   "outputs": [
    {
     "data": {
      "text/plain": [
       "[<matplotlib.lines.Line2D at 0x22daf697880>]"
      ]
     },
     "execution_count": 110,
     "metadata": {},
     "output_type": "execute_result"
    },
    {
     "data": {
      "image/png": "[encoded data removed]",
      "text/plain": [
       "<Figure size 432x288 with 1 Axes>"
      ]
     },
     "metadata": {
      "needs_background": "light"
     },
     "output_type": "display_data"
    }
   ],
   "source": [
    "plt.plot(history.history['loss'])\n",
    "plt.plot(history.history['val_loss'])"
   ]
  },
  {
   "cell_type": "markdown",
   "id": "5e443164",
   "metadata": {},
   "source": [
    "# RandomForestRegressor"
   ]
  },
  {
   "cell_type": "code",
   "execution_count": 111,
   "id": "c932785e",
   "metadata": {},
   "outputs": [],
   "source": [
    "rfr=RandomForestRegressor()\n"
   ]
  },
  {
   "cell_type": "code",
   "execution_count": 112,
   "id": "046115a6",
   "metadata": {},
   "outputs": [
    {
     "data": {
      "text/plain": [
       "RandomForestRegressor()"
      ]
     },
     "execution_count": 112,
     "metadata": {},
     "output_type": "execute_result"
    }
   ],
   "source": [
    "rfr.fit(X_train,y_train)"
   ]
  },
  {
   "cell_type": "code",
   "execution_count": 113,
   "id": "f5907c75",
   "metadata": {},
   "outputs": [],
   "source": [
    "y_pred=rfr.predict(X_train)"
   ]
  },
  {
   "cell_type": "code",
   "execution_count": 114,
   "id": "e6f625d5",
   "metadata": {},
   "outputs": [
    {
     "data": {
      "text/plain": [
       "0.9836752815797021"
      ]
     },
     "execution_count": 114,
     "metadata": {},
     "output_type": "execute_result"
    }
   ],
   "source": [
    "r2_score(y_train,y_pred)"
   ]
  },
  {
   "cell_type": "code",
   "execution_count": 115,
   "id": "ab6afe5f",
   "metadata": {},
   "outputs": [],
   "source": [
    "y_pred=rfr.predict(X_test)"
   ]
  },
  {
   "cell_type": "code",
   "execution_count": 116,
   "id": "f54c3cfe",
   "metadata": {},
   "outputs": [
    {
     "data": {
      "text/plain": [
       "0.906497497007627"
      ]
     },
     "execution_count": 116,
     "metadata": {},
     "output_type": "execute_result"
    }
   ],
   "source": [
    "r2_score(y_test,y_pred)"
   ]
  },
  {
   "cell_type": "code",
   "execution_count": 117,
   "id": "77add365",
   "metadata": {},
   "outputs": [
    {
     "data": {
      "text/plain": [
       "763.3678478566181"
      ]
     },
     "execution_count": 117,
     "metadata": {},
     "output_type": "execute_result"
    }
   ],
   "source": [
    "mean_squared_error(y_test,y_pred)"
   ]
  },
  {
   "cell_type": "code",
   "execution_count": 118,
   "id": "3b36359d",
   "metadata": {},
   "outputs": [],
   "source": [
    "kf=KFold(5)\n"
   ]
  },
  {
   "cell_type": "code",
   "execution_count": 119,
   "id": "fa2ae9a0",
   "metadata": {},
   "outputs": [],
   "source": [
    "scores=cross_val_score(rfr,X_test,y_test,cv=kf)"
   ]
  },
  {
   "cell_type": "code",
   "execution_count": 120,
   "id": "0b724844",
   "metadata": {},
   "outputs": [
    {
     "name": "stdout",
     "output_type": "stream",
     "text": [
      "0 0.9219455186329006\n",
      "1 0.8458518474256351\n",
      "2 0.8947759433896615\n",
      "3 0.8471598338010807\n",
      "4 0.8808418777452497\n"
     ]
    }
   ],
   "source": [
    "for idx,value in enumerate(scores):\n",
    "    print(idx,value)"
   ]
  },
  {
   "cell_type": "code",
   "execution_count": 121,
   "id": "c33e4919",
   "metadata": {},
   "outputs": [
    {
     "data": {
      "text/plain": [
       "0.8781150041989056"
      ]
     },
     "execution_count": 121,
     "metadata": {},
     "output_type": "execute_result"
    }
   ],
   "source": [
    "scores.mean()"
   ]
  },
  {
   "cell_type": "markdown",
   "id": "55b1a8fe",
   "metadata": {},
   "source": [
    "# KNeighborsRegressor"
   ]
  },
  {
   "cell_type": "code",
   "execution_count": 122,
   "id": "738a8cc2",
   "metadata": {},
   "outputs": [],
   "source": [
    "knc=KNeighborsRegressor()\n"
   ]
  },
  {
   "cell_type": "code",
   "execution_count": 123,
   "id": "ac3811f3",
   "metadata": {},
   "outputs": [
    {
     "data": {
      "text/plain": [
       "KNeighborsRegressor()"
      ]
     },
     "execution_count": 123,
     "metadata": {},
     "output_type": "execute_result"
    }
   ],
   "source": [
    "knc.fit(X_train,y_train)"
   ]
  },
  {
   "cell_type": "code",
   "execution_count": 124,
   "id": "3ba4b964",
   "metadata": {},
   "outputs": [],
   "source": [
    "y_pred=knc.predict(X_train)"
   ]
  },
  {
   "cell_type": "code",
   "execution_count": 125,
   "id": "8b1b49b4",
   "metadata": {},
   "outputs": [
    {
     "data": {
      "text/plain": [
       "0.9142570041391187"
      ]
     },
     "execution_count": 125,
     "metadata": {},
     "output_type": "execute_result"
    }
   ],
   "source": [
    "r2_score(y_train,y_pred)"
   ]
  },
  {
   "cell_type": "code",
   "execution_count": 126,
   "id": "1cc0a08c",
   "metadata": {},
   "outputs": [],
   "source": [
    "y_pred=knc.predict(X_test)"
   ]
  },
  {
   "cell_type": "code",
   "execution_count": 127,
   "id": "d0284bee",
   "metadata": {},
   "outputs": [
    {
     "data": {
      "text/plain": [
       "0.8797048151512763"
      ]
     },
     "execution_count": 127,
     "metadata": {},
     "output_type": "execute_result"
    }
   ],
   "source": [
    "r2_score(y_test,y_pred)"
   ]
  },
  {
   "cell_type": "code",
   "execution_count": 128,
   "id": "68acb7a0",
   "metadata": {},
   "outputs": [
    {
     "data": {
      "text/plain": [
       "982.1071460832969"
      ]
     },
     "execution_count": 128,
     "metadata": {},
     "output_type": "execute_result"
    }
   ],
   "source": [
    "mean_squared_error(y_test,y_pred)"
   ]
  },
  {
   "cell_type": "code",
   "execution_count": 129,
   "id": "b3046384",
   "metadata": {},
   "outputs": [],
   "source": [
    "kf=KFold(5)\n"
   ]
  },
  {
   "cell_type": "code",
   "execution_count": 130,
   "id": "ea3f148b",
   "metadata": {},
   "outputs": [],
   "source": [
    "scores=cross_val_score(knc,X_test,y_test,cv=kf)"
   ]
  },
  {
   "cell_type": "code",
   "execution_count": 131,
   "id": "97f66f94",
   "metadata": {},
   "outputs": [
    {
     "name": "stdout",
     "output_type": "stream",
     "text": [
      "0 0.884042659129814\n",
      "1 0.748551491003487\n",
      "2 0.8468164669303366\n",
      "3 0.902492435125718\n",
      "4 0.8301431678105172\n"
     ]
    }
   ],
   "source": [
    "for idx,value in enumerate(scores):\n",
    "    print(idx,value)"
   ]
  },
  {
   "cell_type": "code",
   "execution_count": 132,
   "id": "be6459cd",
   "metadata": {},
   "outputs": [
    {
     "data": {
      "text/plain": [
       "0.8424092439999745"
      ]
     },
     "execution_count": 132,
     "metadata": {},
     "output_type": "execute_result"
    }
   ],
   "source": [
    "scores.mean()"
   ]
  },
  {
   "cell_type": "markdown",
   "id": "9517ed8e",
   "metadata": {},
   "source": [
    "# LinearRegression"
   ]
  },
  {
   "cell_type": "code",
   "execution_count": 133,
   "id": "4978e622",
   "metadata": {},
   "outputs": [],
   "source": [
    "lr=LinearRegression()\n"
   ]
  },
  {
   "cell_type": "code",
   "execution_count": 134,
   "id": "afb850a6",
   "metadata": {},
   "outputs": [
    {
     "data": {
      "text/plain": [
       "LinearRegression()"
      ]
     },
     "execution_count": 134,
     "metadata": {},
     "output_type": "execute_result"
    }
   ],
   "source": [
    "lr.fit(X_train,y_train)"
   ]
  },
  {
   "cell_type": "code",
   "execution_count": 135,
   "id": "adb62661",
   "metadata": {},
   "outputs": [],
   "source": [
    "y_pred=lr.predict(X_train)"
   ]
  },
  {
   "cell_type": "code",
   "execution_count": 136,
   "id": "372956a7",
   "metadata": {},
   "outputs": [
    {
     "data": {
      "text/plain": [
       "0.754756684716047"
      ]
     },
     "execution_count": 136,
     "metadata": {},
     "output_type": "execute_result"
    }
   ],
   "source": [
    "r2_score(y_train,y_pred)"
   ]
  },
  {
   "cell_type": "code",
   "execution_count": 137,
   "id": "3f179947",
   "metadata": {},
   "outputs": [],
   "source": [
    "y_pred=lr.predict(X_test)"
   ]
  },
  {
   "cell_type": "code",
   "execution_count": 138,
   "id": "a666de08",
   "metadata": {},
   "outputs": [
    {
     "data": {
      "text/plain": [
       "0.6777698512585904"
      ]
     },
     "execution_count": 138,
     "metadata": {},
     "output_type": "execute_result"
    }
   ],
   "source": [
    "r2_score(y_test,y_pred)"
   ]
  },
  {
   "cell_type": "code",
   "execution_count": 139,
   "id": "7589cbfe",
   "metadata": {},
   "outputs": [
    {
     "data": {
      "text/plain": [
       "2630.733159938111"
      ]
     },
     "execution_count": 139,
     "metadata": {},
     "output_type": "execute_result"
    }
   ],
   "source": [
    "mean_squared_error(y_test,y_pred)"
   ]
  },
  {
   "cell_type": "code",
   "execution_count": 140,
   "id": "60532298",
   "metadata": {},
   "outputs": [],
   "source": [
    "kf=KFold(5)\n"
   ]
  },
  {
   "cell_type": "code",
   "execution_count": 141,
   "id": "34f725c1",
   "metadata": {},
   "outputs": [],
   "source": [
    "scores=cross_val_score(lr,X_test,y_test,cv=kf)"
   ]
  },
  {
   "cell_type": "code",
   "execution_count": 142,
   "id": "2d21ea87",
   "metadata": {},
   "outputs": [
    {
     "name": "stdout",
     "output_type": "stream",
     "text": [
      "0 0.7683889339120684\n",
      "1 0.48366025068660357\n",
      "2 0.7236715665172104\n",
      "3 0.8021990217888392\n",
      "4 0.5223978401188422\n"
     ]
    }
   ],
   "source": [
    "for idx,value in enumerate(scores):\n",
    "    print(idx,value)"
   ]
  },
  {
   "cell_type": "code",
   "execution_count": 143,
   "id": "662a6fb0",
   "metadata": {},
   "outputs": [
    {
     "data": {
      "text/plain": [
       "0.6600635226047127"
      ]
     },
     "execution_count": 143,
     "metadata": {},
     "output_type": "execute_result"
    }
   ],
   "source": [
    "scores.mean()"
   ]
  },
  {
   "cell_type": "markdown",
   "id": "36f15a0f",
   "metadata": {},
   "source": [
    "# XGBClassifier"
   ]
  },
  {
   "cell_type": "code",
   "execution_count": 144,
   "id": "4b949c05",
   "metadata": {},
   "outputs": [],
   "source": [
    "xgb_i=xgb.XGBRegressor()"
   ]
  },
  {
   "cell_type": "code",
   "execution_count": 145,
   "id": "7be2d5dc",
   "metadata": {},
   "outputs": [
    {
     "data": {
      "text/plain": [
       "XGBRegressor(base_score=None, booster=None, callbacks=None,\n",
       "             colsample_bylevel=None, colsample_bynode=None,\n",
       "             colsample_bytree=None, early_stopping_rounds=None,\n",
       "             enable_categorical=False, eval_metric=None, feature_types=None,\n",
       "             gamma=None, gpu_id=None, grow_policy=None, importance_type=None,\n",
       "             interaction_constraints=None, learning_rate=None, max_bin=None,\n",
       "             max_cat_threshold=None, max_cat_to_onehot=None,\n",
       "             max_delta_step=None, max_depth=None, max_leaves=None,\n",
       "             min_child_weight=None, missing=nan, monotone_constraints=None,\n",
       "             n_estimators=100, n_jobs=None, num_parallel_tree=None,\n",
       "             predictor=None, random_state=None, ...)"
      ]
     },
     "execution_count": 145,
     "metadata": {},
     "output_type": "execute_result"
    }
   ],
   "source": [
    "xgb_i.fit(X_train,y_train)"
   ]
  },
  {
   "cell_type": "code",
   "execution_count": 146,
   "id": "a4d4dbb2",
   "metadata": {},
   "outputs": [],
   "source": [
    "y_pred=xgb_i.predict(X_train)"
   ]
  },
  {
   "cell_type": "code",
   "execution_count": 147,
   "id": "2925d406",
   "metadata": {},
   "outputs": [
    {
     "data": {
      "text/plain": [
       "0.9990704617615632"
      ]
     },
     "execution_count": 147,
     "metadata": {},
     "output_type": "execute_result"
    }
   ],
   "source": [
    "r2_score(y_train,y_pred)"
   ]
  },
  {
   "cell_type": "code",
   "execution_count": 148,
   "id": "862d13b6",
   "metadata": {},
   "outputs": [],
   "source": [
    "y_pred=xgb_i.predict(X_test)"
   ]
  },
  {
   "cell_type": "code",
   "execution_count": 149,
   "id": "bdbd8bfe",
   "metadata": {},
   "outputs": [
    {
     "data": {
      "text/plain": [
       "0.8836565614326186"
      ]
     },
     "execution_count": 149,
     "metadata": {},
     "output_type": "execute_result"
    }
   ],
   "source": [
    "r2_score(y_test,y_pred)"
   ]
  },
  {
   "cell_type": "code",
   "execution_count": 150,
   "id": "924a89d4",
   "metadata": {},
   "outputs": [
    {
     "data": {
      "text/plain": [
       "949.8445225435848"
      ]
     },
     "execution_count": 150,
     "metadata": {},
     "output_type": "execute_result"
    }
   ],
   "source": [
    "mean_squared_error(y_test,y_pred)"
   ]
  },
  {
   "cell_type": "code",
   "execution_count": 151,
   "id": "bcc36e32",
   "metadata": {},
   "outputs": [],
   "source": [
    "kf=KFold(5)\n"
   ]
  },
  {
   "cell_type": "code",
   "execution_count": 152,
   "id": "22d9c217",
   "metadata": {},
   "outputs": [],
   "source": [
    "scores=cross_val_score(xgb_i,X_test,y_test,cv=kf)"
   ]
  },
  {
   "cell_type": "code",
   "execution_count": 153,
   "id": "c678cebd",
   "metadata": {},
   "outputs": [
    {
     "name": "stdout",
     "output_type": "stream",
     "text": [
      "0 0.8882958152089118\n",
      "1 0.6969228123691944\n",
      "2 0.9011675671352768\n",
      "3 0.8210193185189415\n",
      "4 0.8346059584659798\n"
     ]
    }
   ],
   "source": [
    "for idx,value in enumerate(scores):\n",
    "    print(idx,value)"
   ]
  },
  {
   "cell_type": "code",
   "execution_count": 154,
   "id": "b6a25da1",
   "metadata": {},
   "outputs": [
    {
     "data": {
      "text/plain": [
       "0.828402294339661"
      ]
     },
     "execution_count": 154,
     "metadata": {},
     "output_type": "execute_result"
    }
   ],
   "source": [
    "scores.mean()"
   ]
  }
 ],
 "metadata": {
  "kernelspec": {
   "display_name": "Python 3 (ipykernel)",
   "language": "python",
   "name": "python3"
  },
  "language_info": {
   "codemirror_mode": {
    "name": "ipython",
    "version": 3
   },
   "file_extension": ".py",
   "mimetype": "text/x-python",
   "name": "python",
   "nbconvert_exporter": "python",
   "pygments_lexer": "ipython3",
   "version": "3.9.12"
  }
 },
 "nbformat": 4,
 "nbformat_minor": 5
}
